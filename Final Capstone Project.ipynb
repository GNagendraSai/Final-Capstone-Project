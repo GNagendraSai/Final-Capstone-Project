{
 "cells": [
  {
   "cell_type": "markdown",
   "id": "ee2d9170",
   "metadata": {},
   "source": [
    "# FINAL CAPSTONE PROJECT"
   ]
  },
  {
   "cell_type": "markdown",
   "id": "5561a433",
   "metadata": {},
   "source": [
    "## Reading Train Data"
   ]
  },
  {
   "cell_type": "code",
   "execution_count": 1,
   "id": "ed8385b7",
   "metadata": {},
   "outputs": [],
   "source": [
    "import numpy as np\n",
    "import pandas as pd\n",
    "import seaborn as sns\n",
    "import matplotlib.pyplot as plt\n",
    "import warnings\n",
    "warnings.filterwarnings('ignore')\n",
    "%matplotlib inline"
   ]
  },
  {
   "cell_type": "code",
   "execution_count": 2,
   "id": "1248896f",
   "metadata": {},
   "outputs": [],
   "source": [
    "df=pd.read_csv('train.csv')"
   ]
  },
  {
   "cell_type": "code",
   "execution_count": 3,
   "id": "244fd3a7",
   "metadata": {},
   "outputs": [
    {
     "data": {
      "text/html": [
       "<div>\n",
       "<style scoped>\n",
       "    .dataframe tbody tr th:only-of-type {\n",
       "        vertical-align: middle;\n",
       "    }\n",
       "\n",
       "    .dataframe tbody tr th {\n",
       "        vertical-align: top;\n",
       "    }\n",
       "\n",
       "    .dataframe thead th {\n",
       "        text-align: right;\n",
       "    }\n",
       "</style>\n",
       "<table border=\"1\" class=\"dataframe\">\n",
       "  <thead>\n",
       "    <tr style=\"text-align: right;\">\n",
       "      <th></th>\n",
       "      <th>id</th>\n",
       "      <th>title</th>\n",
       "      <th>Rating</th>\n",
       "      <th>maincateg</th>\n",
       "      <th>platform</th>\n",
       "      <th>price1</th>\n",
       "      <th>actprice1</th>\n",
       "      <th>Offer %</th>\n",
       "      <th>norating1</th>\n",
       "      <th>noreviews1</th>\n",
       "      <th>star_5f</th>\n",
       "      <th>star_4f</th>\n",
       "      <th>star_3f</th>\n",
       "      <th>star_2f</th>\n",
       "      <th>star_1f</th>\n",
       "      <th>fulfilled1</th>\n",
       "    </tr>\n",
       "  </thead>\n",
       "  <tbody>\n",
       "    <tr>\n",
       "      <th>0</th>\n",
       "      <td>16695</td>\n",
       "      <td>Fashionable &amp; Comfortable Bellies For Women  (...</td>\n",
       "      <td>3.9</td>\n",
       "      <td>Women</td>\n",
       "      <td>Flipkart</td>\n",
       "      <td>698</td>\n",
       "      <td>999</td>\n",
       "      <td>30.13%</td>\n",
       "      <td>38.0</td>\n",
       "      <td>7.0</td>\n",
       "      <td>17.0</td>\n",
       "      <td>9.0</td>\n",
       "      <td>6.0</td>\n",
       "      <td>3</td>\n",
       "      <td>3</td>\n",
       "      <td>0</td>\n",
       "    </tr>\n",
       "    <tr>\n",
       "      <th>1</th>\n",
       "      <td>5120</td>\n",
       "      <td>Combo Pack of 4 Casual Shoes Sneakers For Men ...</td>\n",
       "      <td>3.8</td>\n",
       "      <td>Men</td>\n",
       "      <td>Flipkart</td>\n",
       "      <td>999</td>\n",
       "      <td>1999</td>\n",
       "      <td>50.03%</td>\n",
       "      <td>531.0</td>\n",
       "      <td>69.0</td>\n",
       "      <td>264.0</td>\n",
       "      <td>92.0</td>\n",
       "      <td>73.0</td>\n",
       "      <td>29</td>\n",
       "      <td>73</td>\n",
       "      <td>1</td>\n",
       "    </tr>\n",
       "    <tr>\n",
       "      <th>2</th>\n",
       "      <td>18391</td>\n",
       "      <td>Cilia Mode Leo Sneakers For Women  (White)</td>\n",
       "      <td>4.4</td>\n",
       "      <td>Women</td>\n",
       "      <td>Flipkart</td>\n",
       "      <td>2749</td>\n",
       "      <td>4999</td>\n",
       "      <td>45.01%</td>\n",
       "      <td>17.0</td>\n",
       "      <td>4.0</td>\n",
       "      <td>11.0</td>\n",
       "      <td>3.0</td>\n",
       "      <td>2.0</td>\n",
       "      <td>1</td>\n",
       "      <td>0</td>\n",
       "      <td>1</td>\n",
       "    </tr>\n",
       "    <tr>\n",
       "      <th>3</th>\n",
       "      <td>495</td>\n",
       "      <td>Men Black Sports Sandal</td>\n",
       "      <td>4.2</td>\n",
       "      <td>Men</td>\n",
       "      <td>Flipkart</td>\n",
       "      <td>518</td>\n",
       "      <td>724</td>\n",
       "      <td>15.85%</td>\n",
       "      <td>46413.0</td>\n",
       "      <td>6229.0</td>\n",
       "      <td>1045.0</td>\n",
       "      <td>12416.0</td>\n",
       "      <td>5352.0</td>\n",
       "      <td>701</td>\n",
       "      <td>4595</td>\n",
       "      <td>1</td>\n",
       "    </tr>\n",
       "    <tr>\n",
       "      <th>4</th>\n",
       "      <td>16408</td>\n",
       "      <td>Men Green Sports Sandal</td>\n",
       "      <td>3.9</td>\n",
       "      <td>Men</td>\n",
       "      <td>Flipkart</td>\n",
       "      <td>1379</td>\n",
       "      <td>2299</td>\n",
       "      <td>40.02%</td>\n",
       "      <td>77.0</td>\n",
       "      <td>3.0</td>\n",
       "      <td>35.0</td>\n",
       "      <td>21.0</td>\n",
       "      <td>7.0</td>\n",
       "      <td>7</td>\n",
       "      <td>7</td>\n",
       "      <td>1</td>\n",
       "    </tr>\n",
       "  </tbody>\n",
       "</table>\n",
       "</div>"
      ],
      "text/plain": [
       "      id                                              title  Rating maincateg  \\\n",
       "0  16695  Fashionable & Comfortable Bellies For Women  (...     3.9     Women   \n",
       "1   5120  Combo Pack of 4 Casual Shoes Sneakers For Men ...     3.8       Men   \n",
       "2  18391         Cilia Mode Leo Sneakers For Women  (White)     4.4     Women   \n",
       "3    495                            Men Black Sports Sandal     4.2       Men   \n",
       "4  16408                            Men Green Sports Sandal     3.9       Men   \n",
       "\n",
       "   platform  price1  actprice1 Offer %  norating1  noreviews1  star_5f  \\\n",
       "0  Flipkart     698        999  30.13%       38.0         7.0     17.0   \n",
       "1  Flipkart     999       1999  50.03%      531.0        69.0    264.0   \n",
       "2  Flipkart    2749       4999  45.01%       17.0         4.0     11.0   \n",
       "3  Flipkart     518        724  15.85%    46413.0      6229.0   1045.0   \n",
       "4  Flipkart    1379       2299  40.02%       77.0         3.0     35.0   \n",
       "\n",
       "   star_4f  star_3f  star_2f  star_1f  fulfilled1  \n",
       "0      9.0      6.0        3        3           0  \n",
       "1     92.0     73.0       29       73           1  \n",
       "2      3.0      2.0        1        0           1  \n",
       "3  12416.0   5352.0      701     4595           1  \n",
       "4     21.0      7.0        7        7           1  "
      ]
     },
     "execution_count": 3,
     "metadata": {},
     "output_type": "execute_result"
    }
   ],
   "source": [
    "df.head()"
   ]
  },
  {
   "cell_type": "code",
   "execution_count": 4,
   "id": "68ccec4e",
   "metadata": {},
   "outputs": [
    {
     "data": {
      "text/html": [
       "<div>\n",
       "<style scoped>\n",
       "    .dataframe tbody tr th:only-of-type {\n",
       "        vertical-align: middle;\n",
       "    }\n",
       "\n",
       "    .dataframe tbody tr th {\n",
       "        vertical-align: top;\n",
       "    }\n",
       "\n",
       "    .dataframe thead th {\n",
       "        text-align: right;\n",
       "    }\n",
       "</style>\n",
       "<table border=\"1\" class=\"dataframe\">\n",
       "  <thead>\n",
       "    <tr style=\"text-align: right;\">\n",
       "      <th></th>\n",
       "      <th>id</th>\n",
       "      <th>title</th>\n",
       "      <th>Rating</th>\n",
       "      <th>maincateg</th>\n",
       "      <th>platform</th>\n",
       "      <th>price1</th>\n",
       "      <th>actprice1</th>\n",
       "      <th>Offer %</th>\n",
       "      <th>norating1</th>\n",
       "      <th>noreviews1</th>\n",
       "      <th>star_5f</th>\n",
       "      <th>star_4f</th>\n",
       "      <th>star_3f</th>\n",
       "      <th>star_2f</th>\n",
       "      <th>star_1f</th>\n",
       "      <th>fulfilled1</th>\n",
       "    </tr>\n",
       "  </thead>\n",
       "  <tbody>\n",
       "    <tr>\n",
       "      <th>15725</th>\n",
       "      <td>16554</td>\n",
       "      <td>Women Maroon Heels Sandal</td>\n",
       "      <td>4.3</td>\n",
       "      <td>Women</td>\n",
       "      <td>Flipkart</td>\n",
       "      <td>567</td>\n",
       "      <td>1199</td>\n",
       "      <td>52.71%</td>\n",
       "      <td>807.0</td>\n",
       "      <td>114.0</td>\n",
       "      <td>485.0</td>\n",
       "      <td>177.0</td>\n",
       "      <td>61.0</td>\n",
       "      <td>41</td>\n",
       "      <td>43</td>\n",
       "      <td>0</td>\n",
       "    </tr>\n",
       "    <tr>\n",
       "      <th>15726</th>\n",
       "      <td>19600</td>\n",
       "      <td>Women Multicolor Flats Sandal</td>\n",
       "      <td>3.9</td>\n",
       "      <td>Women</td>\n",
       "      <td>Flipkart</td>\n",
       "      <td>499</td>\n",
       "      <td>998</td>\n",
       "      <td>50.00%</td>\n",
       "      <td>246.0</td>\n",
       "      <td>34.0</td>\n",
       "      <td>120.0</td>\n",
       "      <td>45.0</td>\n",
       "      <td>37.0</td>\n",
       "      <td>16</td>\n",
       "      <td>28</td>\n",
       "      <td>1</td>\n",
       "    </tr>\n",
       "    <tr>\n",
       "      <th>15727</th>\n",
       "      <td>6733</td>\n",
       "      <td>Women Navy Flats Sandal</td>\n",
       "      <td>3.7</td>\n",
       "      <td>Women</td>\n",
       "      <td>Flipkart</td>\n",
       "      <td>329</td>\n",
       "      <td>499</td>\n",
       "      <td>34.07%</td>\n",
       "      <td>NaN</td>\n",
       "      <td>18.0</td>\n",
       "      <td>NaN</td>\n",
       "      <td>NaN</td>\n",
       "      <td>20.0</td>\n",
       "      <td>10</td>\n",
       "      <td>15</td>\n",
       "      <td>1</td>\n",
       "    </tr>\n",
       "    <tr>\n",
       "      <th>15728</th>\n",
       "      <td>3889</td>\n",
       "      <td>Red Chief Men's Sneakers</td>\n",
       "      <td>3.9</td>\n",
       "      <td>Men</td>\n",
       "      <td>Amazon</td>\n",
       "      <td>2249</td>\n",
       "      <td>4499</td>\n",
       "      <td>50.01%</td>\n",
       "      <td>750.0</td>\n",
       "      <td>479.0</td>\n",
       "      <td>13.0</td>\n",
       "      <td>6.0</td>\n",
       "      <td>10.0</td>\n",
       "      <td>25</td>\n",
       "      <td>47</td>\n",
       "      <td>1</td>\n",
       "    </tr>\n",
       "    <tr>\n",
       "      <th>15729</th>\n",
       "      <td>13682</td>\n",
       "      <td>Slip On For Men  (Brown)</td>\n",
       "      <td>5.0</td>\n",
       "      <td>Men</td>\n",
       "      <td>Flipkart</td>\n",
       "      <td>1539</td>\n",
       "      <td>2799</td>\n",
       "      <td>45.02%</td>\n",
       "      <td>8.0</td>\n",
       "      <td>1.0</td>\n",
       "      <td>8.0</td>\n",
       "      <td>0.0</td>\n",
       "      <td>0.0</td>\n",
       "      <td>0</td>\n",
       "      <td>0</td>\n",
       "      <td>1</td>\n",
       "    </tr>\n",
       "  </tbody>\n",
       "</table>\n",
       "</div>"
      ],
      "text/plain": [
       "          id                          title  Rating maincateg  platform  \\\n",
       "15725  16554      Women Maroon Heels Sandal     4.3     Women  Flipkart   \n",
       "15726  19600  Women Multicolor Flats Sandal     3.9     Women  Flipkart   \n",
       "15727   6733        Women Navy Flats Sandal     3.7     Women  Flipkart   \n",
       "15728   3889       Red Chief Men's Sneakers     3.9       Men    Amazon   \n",
       "15729  13682       Slip On For Men  (Brown)     5.0       Men  Flipkart   \n",
       "\n",
       "       price1  actprice1 Offer %  norating1  noreviews1  star_5f  star_4f  \\\n",
       "15725     567       1199  52.71%      807.0       114.0    485.0    177.0   \n",
       "15726     499        998  50.00%      246.0        34.0    120.0     45.0   \n",
       "15727     329        499  34.07%        NaN        18.0      NaN      NaN   \n",
       "15728    2249       4499  50.01%      750.0       479.0     13.0      6.0   \n",
       "15729    1539       2799  45.02%        8.0         1.0      8.0      0.0   \n",
       "\n",
       "       star_3f  star_2f  star_1f  fulfilled1  \n",
       "15725     61.0       41       43           0  \n",
       "15726     37.0       16       28           1  \n",
       "15727     20.0       10       15           1  \n",
       "15728     10.0       25       47           1  \n",
       "15729      0.0        0        0           1  "
      ]
     },
     "execution_count": 4,
     "metadata": {},
     "output_type": "execute_result"
    }
   ],
   "source": [
    "df.tail()"
   ]
  },
  {
   "cell_type": "code",
   "execution_count": 5,
   "id": "e1f2bfb8",
   "metadata": {},
   "outputs": [
    {
     "data": {
      "text/plain": [
       "(15730, 16)"
      ]
     },
     "execution_count": 5,
     "metadata": {},
     "output_type": "execute_result"
    }
   ],
   "source": [
    "df.shape"
   ]
  },
  {
   "cell_type": "code",
   "execution_count": 6,
   "id": "a24b0f57",
   "metadata": {},
   "outputs": [
    {
     "data": {
      "text/plain": [
       "id              int64\n",
       "title          object\n",
       "Rating        float64\n",
       "maincateg      object\n",
       "platform       object\n",
       "price1          int64\n",
       "actprice1       int64\n",
       "Offer %        object\n",
       "norating1     float64\n",
       "noreviews1    float64\n",
       "star_5f       float64\n",
       "star_4f       float64\n",
       "star_3f       float64\n",
       "star_2f         int64\n",
       "star_1f         int64\n",
       "fulfilled1      int64\n",
       "dtype: object"
      ]
     },
     "execution_count": 6,
     "metadata": {},
     "output_type": "execute_result"
    }
   ],
   "source": [
    "df.dtypes"
   ]
  },
  {
   "cell_type": "code",
   "execution_count": 7,
   "id": "9c427f4b",
   "metadata": {},
   "outputs": [
    {
     "data": {
      "text/plain": [
       "id              0\n",
       "title           0\n",
       "Rating          0\n",
       "maincateg     526\n",
       "platform        0\n",
       "price1          0\n",
       "actprice1       0\n",
       "Offer %         0\n",
       "norating1     678\n",
       "noreviews1    578\n",
       "star_5f       588\n",
       "star_4f       539\n",
       "star_3f       231\n",
       "star_2f         0\n",
       "star_1f         0\n",
       "fulfilled1      0\n",
       "dtype: int64"
      ]
     },
     "execution_count": 7,
     "metadata": {},
     "output_type": "execute_result"
    }
   ],
   "source": [
    "df.isnull().sum()"
   ]
  },
  {
   "cell_type": "code",
   "execution_count": 8,
   "id": "5f623902",
   "metadata": {},
   "outputs": [
    {
     "data": {
      "text/html": [
       "<div>\n",
       "<style scoped>\n",
       "    .dataframe tbody tr th:only-of-type {\n",
       "        vertical-align: middle;\n",
       "    }\n",
       "\n",
       "    .dataframe tbody tr th {\n",
       "        vertical-align: top;\n",
       "    }\n",
       "\n",
       "    .dataframe thead th {\n",
       "        text-align: right;\n",
       "    }\n",
       "</style>\n",
       "<table border=\"1\" class=\"dataframe\">\n",
       "  <thead>\n",
       "    <tr style=\"text-align: right;\">\n",
       "      <th></th>\n",
       "      <th>id</th>\n",
       "      <th>Rating</th>\n",
       "      <th>price1</th>\n",
       "      <th>actprice1</th>\n",
       "      <th>norating1</th>\n",
       "      <th>noreviews1</th>\n",
       "      <th>star_5f</th>\n",
       "      <th>star_4f</th>\n",
       "      <th>star_3f</th>\n",
       "      <th>star_2f</th>\n",
       "      <th>star_1f</th>\n",
       "      <th>fulfilled1</th>\n",
       "    </tr>\n",
       "  </thead>\n",
       "  <tbody>\n",
       "    <tr>\n",
       "      <th>count</th>\n",
       "      <td>15730.000000</td>\n",
       "      <td>15730.000000</td>\n",
       "      <td>15730.000000</td>\n",
       "      <td>15730.000000</td>\n",
       "      <td>15052.000000</td>\n",
       "      <td>15152.000000</td>\n",
       "      <td>15142.000000</td>\n",
       "      <td>15191.000000</td>\n",
       "      <td>15499.000000</td>\n",
       "      <td>15730.000000</td>\n",
       "      <td>15730.000000</td>\n",
       "      <td>15730.000000</td>\n",
       "    </tr>\n",
       "    <tr>\n",
       "      <th>mean</th>\n",
       "      <td>10479.541577</td>\n",
       "      <td>4.012873</td>\n",
       "      <td>688.070693</td>\n",
       "      <td>1369.286777</td>\n",
       "      <td>3057.660776</td>\n",
       "      <td>423.976307</td>\n",
       "      <td>1585.239466</td>\n",
       "      <td>655.923310</td>\n",
       "      <td>357.260662</td>\n",
       "      <td>155.085188</td>\n",
       "      <td>275.500572</td>\n",
       "      <td>0.601526</td>\n",
       "    </tr>\n",
       "    <tr>\n",
       "      <th>std</th>\n",
       "      <td>6080.166276</td>\n",
       "      <td>0.298440</td>\n",
       "      <td>649.409586</td>\n",
       "      <td>1240.900227</td>\n",
       "      <td>11846.965689</td>\n",
       "      <td>1768.230384</td>\n",
       "      <td>6177.476241</td>\n",
       "      <td>2855.735531</td>\n",
       "      <td>1402.246610</td>\n",
       "      <td>558.650254</td>\n",
       "      <td>958.589075</td>\n",
       "      <td>0.489600</td>\n",
       "    </tr>\n",
       "    <tr>\n",
       "      <th>min</th>\n",
       "      <td>3.000000</td>\n",
       "      <td>0.000000</td>\n",
       "      <td>69.000000</td>\n",
       "      <td>42.000000</td>\n",
       "      <td>1.000000</td>\n",
       "      <td>0.000000</td>\n",
       "      <td>0.000000</td>\n",
       "      <td>0.000000</td>\n",
       "      <td>0.000000</td>\n",
       "      <td>0.000000</td>\n",
       "      <td>0.000000</td>\n",
       "      <td>0.000000</td>\n",
       "    </tr>\n",
       "    <tr>\n",
       "      <th>25%</th>\n",
       "      <td>5212.000000</td>\n",
       "      <td>3.900000</td>\n",
       "      <td>349.000000</td>\n",
       "      <td>699.000000</td>\n",
       "      <td>63.000000</td>\n",
       "      <td>9.000000</td>\n",
       "      <td>30.000000</td>\n",
       "      <td>12.000000</td>\n",
       "      <td>7.000000</td>\n",
       "      <td>3.000000</td>\n",
       "      <td>6.000000</td>\n",
       "      <td>0.000000</td>\n",
       "    </tr>\n",
       "    <tr>\n",
       "      <th>50%</th>\n",
       "      <td>10458.500000</td>\n",
       "      <td>4.000000</td>\n",
       "      <td>474.000000</td>\n",
       "      <td>999.000000</td>\n",
       "      <td>308.000000</td>\n",
       "      <td>44.000000</td>\n",
       "      <td>150.000000</td>\n",
       "      <td>60.000000</td>\n",
       "      <td>34.000000</td>\n",
       "      <td>17.000000</td>\n",
       "      <td>30.000000</td>\n",
       "      <td>1.000000</td>\n",
       "    </tr>\n",
       "    <tr>\n",
       "      <th>75%</th>\n",
       "      <td>15766.750000</td>\n",
       "      <td>4.200000</td>\n",
       "      <td>699.000000</td>\n",
       "      <td>1299.000000</td>\n",
       "      <td>1526.000000</td>\n",
       "      <td>215.000000</td>\n",
       "      <td>788.000000</td>\n",
       "      <td>300.000000</td>\n",
       "      <td>172.000000</td>\n",
       "      <td>77.000000</td>\n",
       "      <td>140.000000</td>\n",
       "      <td>1.000000</td>\n",
       "    </tr>\n",
       "    <tr>\n",
       "      <th>max</th>\n",
       "      <td>20973.000000</td>\n",
       "      <td>5.000000</td>\n",
       "      <td>5998.000000</td>\n",
       "      <td>13499.000000</td>\n",
       "      <td>289973.000000</td>\n",
       "      <td>45448.000000</td>\n",
       "      <td>151193.000000</td>\n",
       "      <td>74037.000000</td>\n",
       "      <td>34978.000000</td>\n",
       "      <td>11705.000000</td>\n",
       "      <td>18060.000000</td>\n",
       "      <td>1.000000</td>\n",
       "    </tr>\n",
       "  </tbody>\n",
       "</table>\n",
       "</div>"
      ],
      "text/plain": [
       "                 id        Rating        price1     actprice1      norating1  \\\n",
       "count  15730.000000  15730.000000  15730.000000  15730.000000   15052.000000   \n",
       "mean   10479.541577      4.012873    688.070693   1369.286777    3057.660776   \n",
       "std     6080.166276      0.298440    649.409586   1240.900227   11846.965689   \n",
       "min        3.000000      0.000000     69.000000     42.000000       1.000000   \n",
       "25%     5212.000000      3.900000    349.000000    699.000000      63.000000   \n",
       "50%    10458.500000      4.000000    474.000000    999.000000     308.000000   \n",
       "75%    15766.750000      4.200000    699.000000   1299.000000    1526.000000   \n",
       "max    20973.000000      5.000000   5998.000000  13499.000000  289973.000000   \n",
       "\n",
       "         noreviews1        star_5f       star_4f       star_3f       star_2f  \\\n",
       "count  15152.000000   15142.000000  15191.000000  15499.000000  15730.000000   \n",
       "mean     423.976307    1585.239466    655.923310    357.260662    155.085188   \n",
       "std     1768.230384    6177.476241   2855.735531   1402.246610    558.650254   \n",
       "min        0.000000       0.000000      0.000000      0.000000      0.000000   \n",
       "25%        9.000000      30.000000     12.000000      7.000000      3.000000   \n",
       "50%       44.000000     150.000000     60.000000     34.000000     17.000000   \n",
       "75%      215.000000     788.000000    300.000000    172.000000     77.000000   \n",
       "max    45448.000000  151193.000000  74037.000000  34978.000000  11705.000000   \n",
       "\n",
       "            star_1f    fulfilled1  \n",
       "count  15730.000000  15730.000000  \n",
       "mean     275.500572      0.601526  \n",
       "std      958.589075      0.489600  \n",
       "min        0.000000      0.000000  \n",
       "25%        6.000000      0.000000  \n",
       "50%       30.000000      1.000000  \n",
       "75%      140.000000      1.000000  \n",
       "max    18060.000000      1.000000  "
      ]
     },
     "execution_count": 8,
     "metadata": {},
     "output_type": "execute_result"
    }
   ],
   "source": [
    "df.describe()"
   ]
  },
  {
   "cell_type": "markdown",
   "id": "1a18dca2",
   "metadata": {},
   "source": [
    "## Filling NaN Values"
   ]
  },
  {
   "cell_type": "code",
   "execution_count": 9,
   "id": "ca52bc09",
   "metadata": {},
   "outputs": [],
   "source": [
    "for i in range(df.shape[0]):\n",
    "    if ('Men' in df['title'][i]) and pd.isnull(df['maincateg'][i]):\n",
    "        df['maincateg']=df['maincateg'].fillna('Men')\n",
    "    elif ('Women' in df['title'][i]) and pd.isnull(df['maincateg'][i]):\n",
    "        df['maincateg']=df['maincateg'].fillna('Women')"
   ]
  },
  {
   "cell_type": "code",
   "execution_count": 10,
   "id": "ee3806f0",
   "metadata": {},
   "outputs": [],
   "source": [
    "df['norating1']=df['norating1'].fillna(df['norating1'].median())\n",
    "df['noreviews1']=df['noreviews1'].fillna(df['noreviews1'].median())\n",
    "df['star_5f']=df['star_5f'].fillna(df['star_5f'].median())\n",
    "df['star_4f']=df['star_4f'].fillna(df['star_4f'].median())\n",
    "df['star_3f']=df['star_3f'].fillna(df['star_3f'].median())"
   ]
  },
  {
   "cell_type": "code",
   "execution_count": 11,
   "id": "1af660ec",
   "metadata": {},
   "outputs": [
    {
     "data": {
      "text/plain": [
       "id            0\n",
       "title         0\n",
       "Rating        0\n",
       "maincateg     0\n",
       "platform      0\n",
       "price1        0\n",
       "actprice1     0\n",
       "Offer %       0\n",
       "norating1     0\n",
       "noreviews1    0\n",
       "star_5f       0\n",
       "star_4f       0\n",
       "star_3f       0\n",
       "star_2f       0\n",
       "star_1f       0\n",
       "fulfilled1    0\n",
       "dtype: int64"
      ]
     },
     "execution_count": 11,
     "metadata": {},
     "output_type": "execute_result"
    }
   ],
   "source": [
    "df.isnull().sum()"
   ]
  },
  {
   "cell_type": "code",
   "execution_count": 12,
   "id": "7124a73e",
   "metadata": {},
   "outputs": [],
   "source": [
    "df.drop('Offer %',axis=1,inplace=True)"
   ]
  },
  {
   "cell_type": "code",
   "execution_count": 13,
   "id": "e5098603",
   "metadata": {},
   "outputs": [
    {
     "data": {
      "text/plain": [
       "(15730, 15)"
      ]
     },
     "execution_count": 13,
     "metadata": {},
     "output_type": "execute_result"
    }
   ],
   "source": [
    "df.shape"
   ]
  },
  {
   "cell_type": "code",
   "execution_count": 14,
   "id": "6e531e3f",
   "metadata": {},
   "outputs": [
    {
     "data": {
      "text/plain": [
       "4782"
      ]
     },
     "execution_count": 14,
     "metadata": {},
     "output_type": "execute_result"
    }
   ],
   "source": [
    "df.title.nunique()"
   ]
  },
  {
   "cell_type": "code",
   "execution_count": 15,
   "id": "057c3ffb",
   "metadata": {},
   "outputs": [],
   "source": [
    "df.drop('title',axis=1,inplace=True)"
   ]
  },
  {
   "cell_type": "code",
   "execution_count": 16,
   "id": "65aff2ad",
   "metadata": {},
   "outputs": [
    {
     "data": {
      "text/plain": [
       "(15730, 14)"
      ]
     },
     "execution_count": 16,
     "metadata": {},
     "output_type": "execute_result"
    }
   ],
   "source": [
    "df.shape"
   ]
  },
  {
   "cell_type": "code",
   "execution_count": 17,
   "id": "d01f6f30",
   "metadata": {},
   "outputs": [
    {
     "data": {
      "text/plain": [
       "<AxesSubplot:>"
      ]
     },
     "execution_count": 17,
     "metadata": {},
     "output_type": "execute_result"
    },
    {
     "data": {
      "image/png": "[encoded data removed]",
      "text/plain": [
       "<Figure size 1080x2160 with 1 Axes>"
      ]
     },
     "metadata": {},
     "output_type": "display_data"
    }
   ],
   "source": [
    "sns.set(rc={'figure.figsize':(15,30)})\n",
    "df.boxplot(column=['Rating','price1','actprice1','norating1','noreviews1','star_5f','star_4f','star_3f','star_2f','star_1f','fulfilled1'])\n",
    "                    "
   ]
  },
  {
   "cell_type": "markdown",
   "id": "3dae9914",
   "metadata": {},
   "source": [
    "## Scaling Numerical Data using Robust Scaler and encoding Categorical Columns using OneHotEncoder"
   ]
  },
  {
   "cell_type": "code",
   "execution_count": 18,
   "id": "8c8eb92b",
   "metadata": {},
   "outputs": [],
   "source": [
    "numerical_cols=['id','Rating','price1','actprice1','norating1','noreviews1','star_5f','star_4f','star_3f','star_2f','star_1f','fulfilled1']\n",
    "categorical_cols=['maincateg','platform']\n",
    "cols=[col for col in df.columns if col not in ['price1']]"
   ]
  },
  {
   "cell_type": "code",
   "execution_count": 19,
   "id": "829e9085",
   "metadata": {},
   "outputs": [],
   "source": [
    "from sklearn.compose import make_column_transformer\n",
    "from sklearn.preprocessing import RobustScaler,OneHotEncoder"
   ]
  },
  {
   "cell_type": "code",
   "execution_count": 20,
   "id": "fad0a338",
   "metadata": {},
   "outputs": [],
   "source": [
    "X=df.drop('price1',axis=1)\n",
    "y=df.price1"
   ]
  },
  {
   "cell_type": "code",
   "execution_count": 21,
   "id": "e69bbedd",
   "metadata": {},
   "outputs": [
    {
     "data": {
      "text/html": [
       "<div>\n",
       "<style scoped>\n",
       "    .dataframe tbody tr th:only-of-type {\n",
       "        vertical-align: middle;\n",
       "    }\n",
       "\n",
       "    .dataframe tbody tr th {\n",
       "        vertical-align: top;\n",
       "    }\n",
       "\n",
       "    .dataframe thead th {\n",
       "        text-align: right;\n",
       "    }\n",
       "</style>\n",
       "<table border=\"1\" class=\"dataframe\">\n",
       "  <thead>\n",
       "    <tr style=\"text-align: right;\">\n",
       "      <th></th>\n",
       "      <th>id</th>\n",
       "      <th>Rating</th>\n",
       "      <th>maincateg</th>\n",
       "      <th>platform</th>\n",
       "      <th>actprice1</th>\n",
       "      <th>norating1</th>\n",
       "      <th>noreviews1</th>\n",
       "      <th>star_5f</th>\n",
       "      <th>star_4f</th>\n",
       "      <th>star_3f</th>\n",
       "      <th>star_2f</th>\n",
       "      <th>star_1f</th>\n",
       "      <th>fulfilled1</th>\n",
       "    </tr>\n",
       "  </thead>\n",
       "  <tbody>\n",
       "    <tr>\n",
       "      <th>0</th>\n",
       "      <td>16695</td>\n",
       "      <td>3.9</td>\n",
       "      <td>Women</td>\n",
       "      <td>Flipkart</td>\n",
       "      <td>999</td>\n",
       "      <td>38.0</td>\n",
       "      <td>7.0</td>\n",
       "      <td>17.0</td>\n",
       "      <td>9.0</td>\n",
       "      <td>6.0</td>\n",
       "      <td>3</td>\n",
       "      <td>3</td>\n",
       "      <td>0</td>\n",
       "    </tr>\n",
       "    <tr>\n",
       "      <th>1</th>\n",
       "      <td>5120</td>\n",
       "      <td>3.8</td>\n",
       "      <td>Men</td>\n",
       "      <td>Flipkart</td>\n",
       "      <td>1999</td>\n",
       "      <td>531.0</td>\n",
       "      <td>69.0</td>\n",
       "      <td>264.0</td>\n",
       "      <td>92.0</td>\n",
       "      <td>73.0</td>\n",
       "      <td>29</td>\n",
       "      <td>73</td>\n",
       "      <td>1</td>\n",
       "    </tr>\n",
       "    <tr>\n",
       "      <th>2</th>\n",
       "      <td>18391</td>\n",
       "      <td>4.4</td>\n",
       "      <td>Women</td>\n",
       "      <td>Flipkart</td>\n",
       "      <td>4999</td>\n",
       "      <td>17.0</td>\n",
       "      <td>4.0</td>\n",
       "      <td>11.0</td>\n",
       "      <td>3.0</td>\n",
       "      <td>2.0</td>\n",
       "      <td>1</td>\n",
       "      <td>0</td>\n",
       "      <td>1</td>\n",
       "    </tr>\n",
       "    <tr>\n",
       "      <th>3</th>\n",
       "      <td>495</td>\n",
       "      <td>4.2</td>\n",
       "      <td>Men</td>\n",
       "      <td>Flipkart</td>\n",
       "      <td>724</td>\n",
       "      <td>46413.0</td>\n",
       "      <td>6229.0</td>\n",
       "      <td>1045.0</td>\n",
       "      <td>12416.0</td>\n",
       "      <td>5352.0</td>\n",
       "      <td>701</td>\n",
       "      <td>4595</td>\n",
       "      <td>1</td>\n",
       "    </tr>\n",
       "    <tr>\n",
       "      <th>4</th>\n",
       "      <td>16408</td>\n",
       "      <td>3.9</td>\n",
       "      <td>Men</td>\n",
       "      <td>Flipkart</td>\n",
       "      <td>2299</td>\n",
       "      <td>77.0</td>\n",
       "      <td>3.0</td>\n",
       "      <td>35.0</td>\n",
       "      <td>21.0</td>\n",
       "      <td>7.0</td>\n",
       "      <td>7</td>\n",
       "      <td>7</td>\n",
       "      <td>1</td>\n",
       "    </tr>\n",
       "    <tr>\n",
       "      <th>...</th>\n",
       "      <td>...</td>\n",
       "      <td>...</td>\n",
       "      <td>...</td>\n",
       "      <td>...</td>\n",
       "      <td>...</td>\n",
       "      <td>...</td>\n",
       "      <td>...</td>\n",
       "      <td>...</td>\n",
       "      <td>...</td>\n",
       "      <td>...</td>\n",
       "      <td>...</td>\n",
       "      <td>...</td>\n",
       "      <td>...</td>\n",
       "    </tr>\n",
       "    <tr>\n",
       "      <th>15725</th>\n",
       "      <td>16554</td>\n",
       "      <td>4.3</td>\n",
       "      <td>Women</td>\n",
       "      <td>Flipkart</td>\n",
       "      <td>1199</td>\n",
       "      <td>807.0</td>\n",
       "      <td>114.0</td>\n",
       "      <td>485.0</td>\n",
       "      <td>177.0</td>\n",
       "      <td>61.0</td>\n",
       "      <td>41</td>\n",
       "      <td>43</td>\n",
       "      <td>0</td>\n",
       "    </tr>\n",
       "    <tr>\n",
       "      <th>15726</th>\n",
       "      <td>19600</td>\n",
       "      <td>3.9</td>\n",
       "      <td>Women</td>\n",
       "      <td>Flipkart</td>\n",
       "      <td>998</td>\n",
       "      <td>246.0</td>\n",
       "      <td>34.0</td>\n",
       "      <td>120.0</td>\n",
       "      <td>45.0</td>\n",
       "      <td>37.0</td>\n",
       "      <td>16</td>\n",
       "      <td>28</td>\n",
       "      <td>1</td>\n",
       "    </tr>\n",
       "    <tr>\n",
       "      <th>15727</th>\n",
       "      <td>6733</td>\n",
       "      <td>3.7</td>\n",
       "      <td>Women</td>\n",
       "      <td>Flipkart</td>\n",
       "      <td>499</td>\n",
       "      <td>308.0</td>\n",
       "      <td>18.0</td>\n",
       "      <td>150.0</td>\n",
       "      <td>60.0</td>\n",
       "      <td>20.0</td>\n",
       "      <td>10</td>\n",
       "      <td>15</td>\n",
       "      <td>1</td>\n",
       "    </tr>\n",
       "    <tr>\n",
       "      <th>15728</th>\n",
       "      <td>3889</td>\n",
       "      <td>3.9</td>\n",
       "      <td>Men</td>\n",
       "      <td>Amazon</td>\n",
       "      <td>4499</td>\n",
       "      <td>750.0</td>\n",
       "      <td>479.0</td>\n",
       "      <td>13.0</td>\n",
       "      <td>6.0</td>\n",
       "      <td>10.0</td>\n",
       "      <td>25</td>\n",
       "      <td>47</td>\n",
       "      <td>1</td>\n",
       "    </tr>\n",
       "    <tr>\n",
       "      <th>15729</th>\n",
       "      <td>13682</td>\n",
       "      <td>5.0</td>\n",
       "      <td>Men</td>\n",
       "      <td>Flipkart</td>\n",
       "      <td>2799</td>\n",
       "      <td>8.0</td>\n",
       "      <td>1.0</td>\n",
       "      <td>8.0</td>\n",
       "      <td>0.0</td>\n",
       "      <td>0.0</td>\n",
       "      <td>0</td>\n",
       "      <td>0</td>\n",
       "      <td>1</td>\n",
       "    </tr>\n",
       "  </tbody>\n",
       "</table>\n",
       "<p>15730 rows × 13 columns</p>\n",
       "</div>"
      ],
      "text/plain": [
       "          id  Rating maincateg  platform  actprice1  norating1  noreviews1  \\\n",
       "0      16695     3.9     Women  Flipkart        999       38.0         7.0   \n",
       "1       5120     3.8       Men  Flipkart       1999      531.0        69.0   \n",
       "2      18391     4.4     Women  Flipkart       4999       17.0         4.0   \n",
       "3        495     4.2       Men  Flipkart        724    46413.0      6229.0   \n",
       "4      16408     3.9       Men  Flipkart       2299       77.0         3.0   \n",
       "...      ...     ...       ...       ...        ...        ...         ...   \n",
       "15725  16554     4.3     Women  Flipkart       1199      807.0       114.0   \n",
       "15726  19600     3.9     Women  Flipkart        998      246.0        34.0   \n",
       "15727   6733     3.7     Women  Flipkart        499      308.0        18.0   \n",
       "15728   3889     3.9       Men    Amazon       4499      750.0       479.0   \n",
       "15729  13682     5.0       Men  Flipkart       2799        8.0         1.0   \n",
       "\n",
       "       star_5f  star_4f  star_3f  star_2f  star_1f  fulfilled1  \n",
       "0         17.0      9.0      6.0        3        3           0  \n",
       "1        264.0     92.0     73.0       29       73           1  \n",
       "2         11.0      3.0      2.0        1        0           1  \n",
       "3       1045.0  12416.0   5352.0      701     4595           1  \n",
       "4         35.0     21.0      7.0        7        7           1  \n",
       "...        ...      ...      ...      ...      ...         ...  \n",
       "15725    485.0    177.0     61.0       41       43           0  \n",
       "15726    120.0     45.0     37.0       16       28           1  \n",
       "15727    150.0     60.0     20.0       10       15           1  \n",
       "15728     13.0      6.0     10.0       25       47           1  \n",
       "15729      8.0      0.0      0.0        0        0           1  \n",
       "\n",
       "[15730 rows x 13 columns]"
      ]
     },
     "execution_count": 21,
     "metadata": {},
     "output_type": "execute_result"
    }
   ],
   "source": [
    "X"
   ]
  },
  {
   "cell_type": "code",
   "execution_count": 22,
   "id": "c6a6584e",
   "metadata": {},
   "outputs": [
    {
     "data": {
      "text/plain": [
       "(15730, 13)"
      ]
     },
     "execution_count": 22,
     "metadata": {},
     "output_type": "execute_result"
    }
   ],
   "source": [
    "X.shape"
   ]
  },
  {
   "cell_type": "code",
   "execution_count": 23,
   "id": "61208416",
   "metadata": {},
   "outputs": [
    {
     "data": {
      "text/plain": [
       "0         698\n",
       "1         999\n",
       "2        2749\n",
       "3         518\n",
       "4        1379\n",
       "         ... \n",
       "15725     567\n",
       "15726     499\n",
       "15727     329\n",
       "15728    2249\n",
       "15729    1539\n",
       "Name: price1, Length: 15730, dtype: int64"
      ]
     },
     "execution_count": 23,
     "metadata": {},
     "output_type": "execute_result"
    }
   ],
   "source": [
    "y"
   ]
  },
  {
   "cell_type": "code",
   "execution_count": 24,
   "id": "fa9fc10d",
   "metadata": {},
   "outputs": [],
   "source": [
    "column_trans=make_column_transformer((OneHotEncoder(),categorical_cols),remainder='passthrough')"
   ]
  },
  {
   "cell_type": "code",
   "execution_count": 25,
   "id": "d700a234",
   "metadata": {},
   "outputs": [],
   "source": [
    "X=column_trans.fit_transform(X)"
   ]
  },
  {
   "cell_type": "code",
   "execution_count": 26,
   "id": "5eb69f83",
   "metadata": {},
   "outputs": [],
   "source": [
    "scaler=RobustScaler()"
   ]
  },
  {
   "cell_type": "code",
   "execution_count": 27,
   "id": "4dc6bdb0",
   "metadata": {},
   "outputs": [],
   "source": [
    "X=scaler.fit_transform(X)"
   ]
  },
  {
   "cell_type": "code",
   "execution_count": 28,
   "id": "bdc7509b",
   "metadata": {},
   "outputs": [
    {
     "data": {
      "text/plain": [
       "array([[ 0.        ,  0.        ,  0.        , ..., -0.18918919,\n",
       "        -0.20149254, -1.        ],\n",
       "       [ 1.        , -1.        ,  0.        , ...,  0.16216216,\n",
       "         0.32089552,  0.        ],\n",
       "       [ 0.        ,  0.        ,  0.        , ..., -0.21621622,\n",
       "        -0.2238806 ,  0.        ],\n",
       "       ...,\n",
       "       [ 0.        ,  0.        ,  0.        , ..., -0.09459459,\n",
       "        -0.1119403 ,  0.        ],\n",
       "       [ 1.        , -1.        ,  1.        , ...,  0.10810811,\n",
       "         0.12686567,  0.        ],\n",
       "       [ 1.        , -1.        ,  0.        , ..., -0.22972973,\n",
       "        -0.2238806 ,  0.        ]])"
      ]
     },
     "execution_count": 28,
     "metadata": {},
     "output_type": "execute_result"
    }
   ],
   "source": [
    "X"
   ]
  },
  {
   "cell_type": "code",
   "execution_count": 29,
   "id": "b1af66bf",
   "metadata": {},
   "outputs": [
    {
     "data": {
      "text/plain": [
       "0         698\n",
       "1         999\n",
       "2        2749\n",
       "3         518\n",
       "4        1379\n",
       "         ... \n",
       "15725     567\n",
       "15726     499\n",
       "15727     329\n",
       "15728    2249\n",
       "15729    1539\n",
       "Name: price1, Length: 15730, dtype: int64"
      ]
     },
     "execution_count": 29,
     "metadata": {},
     "output_type": "execute_result"
    }
   ],
   "source": [
    "y"
   ]
  },
  {
   "cell_type": "markdown",
   "id": "cc442e38",
   "metadata": {},
   "source": [
    "# Linear Regression"
   ]
  },
  {
   "cell_type": "code",
   "execution_count": 30,
   "id": "5b85d92a",
   "metadata": {},
   "outputs": [],
   "source": [
    "from sklearn.linear_model import LinearRegression\n",
    "model_LR=LinearRegression()"
   ]
  },
  {
   "cell_type": "code",
   "execution_count": 31,
   "id": "43626a42",
   "metadata": {},
   "outputs": [],
   "source": [
    "from sklearn.model_selection import cross_val_score,GridSearchCV"
   ]
  },
  {
   "cell_type": "code",
   "execution_count": 32,
   "id": "44ca123a",
   "metadata": {},
   "outputs": [
    {
     "name": "stdout",
     "output_type": "stream",
     "text": [
      "288.7457796919611\n"
     ]
    }
   ],
   "source": [
    "cv_score_LR = -1 * cross_val_score(model_LR,X,y,cv=5,scoring='neg_root_mean_squared_error')\n",
    "print(cv_score_LR.mean())"
   ]
  },
  {
   "cell_type": "markdown",
   "id": "7e9e8753",
   "metadata": {},
   "source": [
    "## Lasso Regression"
   ]
  },
  {
   "cell_type": "code",
   "execution_count": 33,
   "id": "a3ce689f",
   "metadata": {},
   "outputs": [],
   "source": [
    "from sklearn.linear_model import Lasso,Ridge"
   ]
  },
  {
   "cell_type": "code",
   "execution_count": 34,
   "id": "5af91bc9",
   "metadata": {},
   "outputs": [],
   "source": [
    "model_Lasso=Lasso()"
   ]
  },
  {
   "cell_type": "code",
   "execution_count": 35,
   "id": "afbdb674",
   "metadata": {},
   "outputs": [
    {
     "name": "stdout",
     "output_type": "stream",
     "text": [
      "288.8142575018862\n"
     ]
    }
   ],
   "source": [
    "cv_score_Lasso=-1 * cross_val_score(model_Lasso,X,y,cv=5,scoring='neg_root_mean_squared_error')\n",
    "print(cv_score_Lasso.mean())"
   ]
  },
  {
   "cell_type": "code",
   "execution_count": 36,
   "id": "b2e6bc47",
   "metadata": {},
   "outputs": [],
   "source": [
    "params_Lasso={'alpha':np.arange(0.01, 1, 0.01)}"
   ]
  },
  {
   "cell_type": "code",
   "execution_count": 37,
   "id": "13e3ca18",
   "metadata": {},
   "outputs": [],
   "source": [
    "grid_Lasso = GridSearchCV(model_Lasso,param_grid=params_Lasso,cv=5,verbose=1,n_jobs=4)"
   ]
  },
  {
   "cell_type": "code",
   "execution_count": 44,
   "id": "1bed6d2a",
   "metadata": {},
   "outputs": [],
   "source": [
    "#grid_Lasso.fit(X,y)"
   ]
  },
  {
   "cell_type": "code",
   "execution_count": 372,
   "id": "c199e083",
   "metadata": {},
   "outputs": [
    {
     "data": {
      "text/plain": [
       "{'model__alpha': 0.99}"
      ]
     },
     "execution_count": 372,
     "metadata": {},
     "output_type": "execute_result"
    }
   ],
   "source": [
    "#grid_Lasso.best_params_"
   ]
  },
  {
   "cell_type": "code",
   "execution_count": 38,
   "id": "feb163c8",
   "metadata": {},
   "outputs": [],
   "source": [
    "model_Lasso1=Lasso(alpha=0.99)"
   ]
  },
  {
   "cell_type": "code",
   "execution_count": 39,
   "id": "719f7c95",
   "metadata": {},
   "outputs": [
    {
     "name": "stdout",
     "output_type": "stream",
     "text": [
      "288.81220688528794\n"
     ]
    }
   ],
   "source": [
    "cv_score_Lasso1=-1 * cross_val_score(model_Lasso1,X,y,cv=5,scoring='neg_root_mean_squared_error')\n",
    "print(cv_score_Lasso1.mean())"
   ]
  },
  {
   "cell_type": "markdown",
   "id": "a3cad90e",
   "metadata": {},
   "source": [
    "## Ridge Regression"
   ]
  },
  {
   "cell_type": "code",
   "execution_count": 40,
   "id": "456cee7a",
   "metadata": {},
   "outputs": [],
   "source": [
    "model_Ridge=Ridge()"
   ]
  },
  {
   "cell_type": "code",
   "execution_count": 41,
   "id": "249a64d5",
   "metadata": {},
   "outputs": [
    {
     "name": "stdout",
     "output_type": "stream",
     "text": [
      "288.74593974626316\n"
     ]
    }
   ],
   "source": [
    "cv_score_Ridge=-1 * cross_val_score(model_Ridge,X,y,cv=5,scoring='neg_root_mean_squared_error')\n",
    "print(cv_score_Ridge.mean())"
   ]
  },
  {
   "cell_type": "code",
   "execution_count": 42,
   "id": "97c0b9c8",
   "metadata": {},
   "outputs": [],
   "source": [
    "params_Ridge={'alpha':[550, 580, 600, 620, 650]}"
   ]
  },
  {
   "cell_type": "code",
   "execution_count": 43,
   "id": "a87d4d7a",
   "metadata": {},
   "outputs": [],
   "source": [
    "grid_Ridge = GridSearchCV(model_Ridge,param_grid=params_Ridge,cv=5,verbose=1,n_jobs=4)"
   ]
  },
  {
   "cell_type": "code",
   "execution_count": 48,
   "id": "b9679f49",
   "metadata": {},
   "outputs": [
    {
     "name": "stdout",
     "output_type": "stream",
     "text": [
      "Fitting 5 folds for each of 5 candidates, totalling 25 fits\n"
     ]
    },
    {
     "data": {
      "text/html": [
       "<style>#sk-container-id-1 {color: black;background-color: white;}#sk-container-id-1 pre{padding: 0;}#sk-container-id-1 div.sk-toggleable {background-color: white;}#sk-container-id-1 label.sk-toggleable__label {cursor: pointer;display: block;width: 100%;margin-bottom: 0;padding: 0.3em;box-sizing: border-box;text-align: center;}#sk-container-id-1 label.sk-toggleable__label-arrow:before {content: \"▸\";float: left;margin-right: 0.25em;color: #696969;}#sk-container-id-1 label.sk-toggleable__label-arrow:hover:before {color: black;}#sk-container-id-1 div.sk-estimator:hover label.sk-toggleable__label-arrow:before {color: black;}#sk-container-id-1 div.sk-toggleable__content {max-height: 0;max-width: 0;overflow: hidden;text-align: left;background-color: #f0f8ff;}#sk-container-id-1 div.sk-toggleable__content pre {margin: 0.2em;color: black;border-radius: 0.25em;background-color: #f0f8ff;}#sk-container-id-1 input.sk-toggleable__control:checked~div.sk-toggleable__content {max-height: 200px;max-width: 100%;overflow: auto;}#sk-container-id-1 input.sk-toggleable__control:checked~label.sk-toggleable__label-arrow:before {content: \"▾\";}#sk-container-id-1 div.sk-estimator input.sk-toggleable__control:checked~label.sk-toggleable__label {background-color: #d4ebff;}#sk-container-id-1 div.sk-label input.sk-toggleable__control:checked~label.sk-toggleable__label {background-color: #d4ebff;}#sk-container-id-1 input.sk-hidden--visually {border: 0;clip: rect(1px 1px 1px 1px);clip: rect(1px, 1px, 1px, 1px);height: 1px;margin: -1px;overflow: hidden;padding: 0;position: absolute;width: 1px;}#sk-container-id-1 div.sk-estimator {font-family: monospace;background-color: #f0f8ff;border: 1px dotted black;border-radius: 0.25em;box-sizing: border-box;margin-bottom: 0.5em;}#sk-container-id-1 div.sk-estimator:hover {background-color: #d4ebff;}#sk-container-id-1 div.sk-parallel-item::after {content: \"\";width: 100%;border-bottom: 1px solid gray;flex-grow: 1;}#sk-container-id-1 div.sk-label:hover label.sk-toggleable__label {background-color: #d4ebff;}#sk-container-id-1 div.sk-serial::before {content: \"\";position: absolute;border-left: 1px solid gray;box-sizing: border-box;top: 0;bottom: 0;left: 50%;z-index: 0;}#sk-container-id-1 div.sk-serial {display: flex;flex-direction: column;align-items: center;background-color: white;padding-right: 0.2em;padding-left: 0.2em;position: relative;}#sk-container-id-1 div.sk-item {position: relative;z-index: 1;}#sk-container-id-1 div.sk-parallel {display: flex;align-items: stretch;justify-content: center;background-color: white;position: relative;}#sk-container-id-1 div.sk-item::before, #sk-container-id-1 div.sk-parallel-item::before {content: \"\";position: absolute;border-left: 1px solid gray;box-sizing: border-box;top: 0;bottom: 0;left: 50%;z-index: -1;}#sk-container-id-1 div.sk-parallel-item {display: flex;flex-direction: column;z-index: 1;position: relative;background-color: white;}#sk-container-id-1 div.sk-parallel-item:first-child::after {align-self: flex-end;width: 50%;}#sk-container-id-1 div.sk-parallel-item:last-child::after {align-self: flex-start;width: 50%;}#sk-container-id-1 div.sk-parallel-item:only-child::after {width: 0;}#sk-container-id-1 div.sk-dashed-wrapped {border: 1px dashed gray;margin: 0 0.4em 0.5em 0.4em;box-sizing: border-box;padding-bottom: 0.4em;background-color: white;}#sk-container-id-1 div.sk-label label {font-family: monospace;font-weight: bold;display: inline-block;line-height: 1.2em;}#sk-container-id-1 div.sk-label-container {text-align: center;}#sk-container-id-1 div.sk-container {/* jupyter's `normalize.less` sets `[hidden] { display: none; }` but bootstrap.min.css set `[hidden] { display: none !important; }` so we also need the `!important` here to be able to override the default hidden behavior on the sphinx rendered scikit-learn.org. See: https://github.com/scikit-learn/scikit-learn/issues/21755 */display: inline-block !important;position: relative;}#sk-container-id-1 div.sk-text-repr-fallback {display: none;}</style><div id=\"sk-container-id-1\" class=\"sk-top-container\"><div class=\"sk-text-repr-fallback\"><pre>GridSearchCV(cv=5, estimator=Ridge(), n_jobs=4,\n",
       "             param_grid={&#x27;alpha&#x27;: [550, 580, 600, 620, 650]}, verbose=1)</pre><b>In a Jupyter environment, please rerun this cell to show the HTML representation or trust the notebook. <br />On GitHub, the HTML representation is unable to render, please try loading this page with nbviewer.org.</b></div><div class=\"sk-container\" hidden><div class=\"sk-item sk-dashed-wrapped\"><div class=\"sk-label-container\"><div class=\"sk-label sk-toggleable\"><input class=\"sk-toggleable__control sk-hidden--visually\" id=\"sk-estimator-id-1\" type=\"checkbox\" ><label for=\"sk-estimator-id-1\" class=\"sk-toggleable__label sk-toggleable__label-arrow\">GridSearchCV</label><div class=\"sk-toggleable__content\"><pre>GridSearchCV(cv=5, estimator=Ridge(), n_jobs=4,\n",
       "             param_grid={&#x27;alpha&#x27;: [550, 580, 600, 620, 650]}, verbose=1)</pre></div></div></div><div class=\"sk-parallel\"><div class=\"sk-parallel-item\"><div class=\"sk-item\"><div class=\"sk-label-container\"><div class=\"sk-label sk-toggleable\"><input class=\"sk-toggleable__control sk-hidden--visually\" id=\"sk-estimator-id-2\" type=\"checkbox\" ><label for=\"sk-estimator-id-2\" class=\"sk-toggleable__label sk-toggleable__label-arrow\">estimator: Ridge</label><div class=\"sk-toggleable__content\"><pre>Ridge()</pre></div></div></div><div class=\"sk-serial\"><div class=\"sk-item\"><div class=\"sk-estimator sk-toggleable\"><input class=\"sk-toggleable__control sk-hidden--visually\" id=\"sk-estimator-id-3\" type=\"checkbox\" ><label for=\"sk-estimator-id-3\" class=\"sk-toggleable__label sk-toggleable__label-arrow\">Ridge</label><div class=\"sk-toggleable__content\"><pre>Ridge()</pre></div></div></div></div></div></div></div></div></div></div>"
      ],
      "text/plain": [
       "GridSearchCV(cv=5, estimator=Ridge(), n_jobs=4,\n",
       "             param_grid={'alpha': [550, 580, 600, 620, 650]}, verbose=1)"
      ]
     },
     "execution_count": 48,
     "metadata": {},
     "output_type": "execute_result"
    }
   ],
   "source": [
    "grid_Ridge.fit(X,y)"
   ]
  },
  {
   "cell_type": "code",
   "execution_count": 49,
   "id": "29d04cbb",
   "metadata": {},
   "outputs": [
    {
     "data": {
      "text/plain": [
       "{'alpha': 550}"
      ]
     },
     "execution_count": 49,
     "metadata": {},
     "output_type": "execute_result"
    }
   ],
   "source": [
    "grid_Ridge.best_params_"
   ]
  },
  {
   "cell_type": "code",
   "execution_count": 44,
   "id": "36e2e6d3",
   "metadata": {},
   "outputs": [],
   "source": [
    "model_Ridge1=Ridge(alpha=550)"
   ]
  },
  {
   "cell_type": "code",
   "execution_count": 45,
   "id": "94258e15",
   "metadata": {},
   "outputs": [
    {
     "name": "stdout",
     "output_type": "stream",
     "text": [
      "289.4918178227405\n"
     ]
    }
   ],
   "source": [
    "cv_score_Ridge1=-1 * cross_val_score(model_Ridge1,X,y,cv=5,scoring='neg_root_mean_squared_error')\n",
    "print(cv_score_Ridge1.mean())"
   ]
  },
  {
   "cell_type": "markdown",
   "id": "af16cde5",
   "metadata": {},
   "source": [
    "## XGB Regressor"
   ]
  },
  {
   "cell_type": "code",
   "execution_count": 46,
   "id": "e7699e18",
   "metadata": {},
   "outputs": [],
   "source": [
    "from xgboost import XGBRegressor\n",
    "model_xgb=XGBRegressor(objective='reg:squarederror',seed=27)"
   ]
  },
  {
   "cell_type": "code",
   "execution_count": 47,
   "id": "e9c2b911",
   "metadata": {},
   "outputs": [
    {
     "name": "stdout",
     "output_type": "stream",
     "text": [
      "220.84582490786175\n"
     ]
    }
   ],
   "source": [
    "cv_score_xgb=-1 * cross_val_score(model_xgb,X,y,cv=5,scoring='neg_root_mean_squared_error')\n",
    "print(cv_score_xgb.mean())"
   ]
  },
  {
   "cell_type": "code",
   "execution_count": 49,
   "id": "bf4bf37f",
   "metadata": {},
   "outputs": [],
   "source": [
    "params_xgb = {'learning_rate':[100, 300, 500, 750, 800, 1200, 1500],\n",
    "              'max_depth':[5, 7, 9, 10, 15],\n",
    "              'n_estimators':[0.01, 0.1, 1, 0.001, 0.5],\n",
    "              'subsample': [0.6, 0.65, 0.7, 0.75, 0.8, 0.85, 0.9, 0.95, 1.0],\n",
    "              'colsample_bytree': [0.6, 0.65, 0.7, 0.75, 0.8, 0.85, 0.9, 0.95, 1.0],\n",
    "              'colsample_bylevel': [0.6, 0.65, 0.7, 0.75, 0.8, 0.85, 0.9, 0.95, 1.0],\n",
    "              'gamma':[0, 0.1, 0.2, 0.3, 0.4, 0.5],\n",
    "              'reg_alpha': [1e-5, 1e-2, 0.1, 1, 100]\n",
    "             }"
   ]
  },
  {
   "cell_type": "code",
   "execution_count": 50,
   "id": "facae6c4",
   "metadata": {},
   "outputs": [],
   "source": [
    "grid_xgb = GridSearchCV(model_xgb,param_grid=params_xgb,cv=5,verbose=1,n_jobs=4,scoring='neg_root_mean_squared_error')"
   ]
  },
  {
   "cell_type": "code",
   "execution_count": 192,
   "id": "89a84d4a",
   "metadata": {},
   "outputs": [
    {
     "name": "stdout",
     "output_type": "stream",
     "text": [
      "Fitting 5 folds for each of 6 candidates, totalling 30 fits\n"
     ]
    },
    {
     "data": {
      "text/html": [
       "<style>#sk-container-id-14 {color: black;background-color: white;}#sk-container-id-14 pre{padding: 0;}#sk-container-id-14 div.sk-toggleable {background-color: white;}#sk-container-id-14 label.sk-toggleable__label {cursor: pointer;display: block;width: 100%;margin-bottom: 0;padding: 0.3em;box-sizing: border-box;text-align: center;}#sk-container-id-14 label.sk-toggleable__label-arrow:before {content: \"▸\";float: left;margin-right: 0.25em;color: #696969;}#sk-container-id-14 label.sk-toggleable__label-arrow:hover:before {color: black;}#sk-container-id-14 div.sk-estimator:hover label.sk-toggleable__label-arrow:before {color: black;}#sk-container-id-14 div.sk-toggleable__content {max-height: 0;max-width: 0;overflow: hidden;text-align: left;background-color: #f0f8ff;}#sk-container-id-14 div.sk-toggleable__content pre {margin: 0.2em;color: black;border-radius: 0.25em;background-color: #f0f8ff;}#sk-container-id-14 input.sk-toggleable__control:checked~div.sk-toggleable__content {max-height: 200px;max-width: 100%;overflow: auto;}#sk-container-id-14 input.sk-toggleable__control:checked~label.sk-toggleable__label-arrow:before {content: \"▾\";}#sk-container-id-14 div.sk-estimator input.sk-toggleable__control:checked~label.sk-toggleable__label {background-color: #d4ebff;}#sk-container-id-14 div.sk-label input.sk-toggleable__control:checked~label.sk-toggleable__label {background-color: #d4ebff;}#sk-container-id-14 input.sk-hidden--visually {border: 0;clip: rect(1px 1px 1px 1px);clip: rect(1px, 1px, 1px, 1px);height: 1px;margin: -1px;overflow: hidden;padding: 0;position: absolute;width: 1px;}#sk-container-id-14 div.sk-estimator {font-family: monospace;background-color: #f0f8ff;border: 1px dotted black;border-radius: 0.25em;box-sizing: border-box;margin-bottom: 0.5em;}#sk-container-id-14 div.sk-estimator:hover {background-color: #d4ebff;}#sk-container-id-14 div.sk-parallel-item::after {content: \"\";width: 100%;border-bottom: 1px solid gray;flex-grow: 1;}#sk-container-id-14 div.sk-label:hover label.sk-toggleable__label {background-color: #d4ebff;}#sk-container-id-14 div.sk-serial::before {content: \"\";position: absolute;border-left: 1px solid gray;box-sizing: border-box;top: 0;bottom: 0;left: 50%;z-index: 0;}#sk-container-id-14 div.sk-serial {display: flex;flex-direction: column;align-items: center;background-color: white;padding-right: 0.2em;padding-left: 0.2em;position: relative;}#sk-container-id-14 div.sk-item {position: relative;z-index: 1;}#sk-container-id-14 div.sk-parallel {display: flex;align-items: stretch;justify-content: center;background-color: white;position: relative;}#sk-container-id-14 div.sk-item::before, #sk-container-id-14 div.sk-parallel-item::before {content: \"\";position: absolute;border-left: 1px solid gray;box-sizing: border-box;top: 0;bottom: 0;left: 50%;z-index: -1;}#sk-container-id-14 div.sk-parallel-item {display: flex;flex-direction: column;z-index: 1;position: relative;background-color: white;}#sk-container-id-14 div.sk-parallel-item:first-child::after {align-self: flex-end;width: 50%;}#sk-container-id-14 div.sk-parallel-item:last-child::after {align-self: flex-start;width: 50%;}#sk-container-id-14 div.sk-parallel-item:only-child::after {width: 0;}#sk-container-id-14 div.sk-dashed-wrapped {border: 1px dashed gray;margin: 0 0.4em 0.5em 0.4em;box-sizing: border-box;padding-bottom: 0.4em;background-color: white;}#sk-container-id-14 div.sk-label label {font-family: monospace;font-weight: bold;display: inline-block;line-height: 1.2em;}#sk-container-id-14 div.sk-label-container {text-align: center;}#sk-container-id-14 div.sk-container {/* jupyter's `normalize.less` sets `[hidden] { display: none; }` but bootstrap.min.css set `[hidden] { display: none !important; }` so we also need the `!important` here to be able to override the default hidden behavior on the sphinx rendered scikit-learn.org. See: https://github.com/scikit-learn/scikit-learn/issues/21755 */display: inline-block !important;position: relative;}#sk-container-id-14 div.sk-text-repr-fallback {display: none;}</style><div id=\"sk-container-id-14\" class=\"sk-top-container\"><div class=\"sk-text-repr-fallback\"><pre>GridSearchCV(cv=5,\n",
       "             estimator=XGBRegressor(base_score=None, booster=None,\n",
       "                                    callbacks=None, colsample_bylevel=None,\n",
       "                                    colsample_bynode=None,\n",
       "                                    colsample_bytree=0.75,\n",
       "                                    early_stopping_rounds=None,\n",
       "                                    enable_categorical=False, eval_metric=None,\n",
       "                                    gamma=None, gpu_id=None, grow_policy=None,\n",
       "                                    importance_type=None,\n",
       "                                    interaction_constraints=None,\n",
       "                                    learning_rate=0.1, max_bin=None,\n",
       "                                    max_cat_...one, max_delta_step=None,\n",
       "                                    max_depth=7, max_leaves=None,\n",
       "                                    min_child_weight=None, missing=nan,\n",
       "                                    monotone_constraints=None,\n",
       "                                    n_estimators=1200, n_jobs=None,\n",
       "                                    num_parallel_tree=None, predictor=None,\n",
       "                                    random_state=None, reg_alpha=None,\n",
       "                                    reg_lambda=None, ...),\n",
       "             n_jobs=4,\n",
       "             param_grid={&#x27;colsample_bylevel&#x27;: [0.0, 0.1, 0.2, 0.3, 0.4, 0.5]},\n",
       "             scoring=&#x27;neg_root_mean_squared_error&#x27;, verbose=1)</pre><b>In a Jupyter environment, please rerun this cell to show the HTML representation or trust the notebook. <br />On GitHub, the HTML representation is unable to render, please try loading this page with nbviewer.org.</b></div><div class=\"sk-container\" hidden><div class=\"sk-item sk-dashed-wrapped\"><div class=\"sk-label-container\"><div class=\"sk-label sk-toggleable\"><input class=\"sk-toggleable__control sk-hidden--visually\" id=\"sk-estimator-id-40\" type=\"checkbox\" ><label for=\"sk-estimator-id-40\" class=\"sk-toggleable__label sk-toggleable__label-arrow\">GridSearchCV</label><div class=\"sk-toggleable__content\"><pre>GridSearchCV(cv=5,\n",
       "             estimator=XGBRegressor(base_score=None, booster=None,\n",
       "                                    callbacks=None, colsample_bylevel=None,\n",
       "                                    colsample_bynode=None,\n",
       "                                    colsample_bytree=0.75,\n",
       "                                    early_stopping_rounds=None,\n",
       "                                    enable_categorical=False, eval_metric=None,\n",
       "                                    gamma=None, gpu_id=None, grow_policy=None,\n",
       "                                    importance_type=None,\n",
       "                                    interaction_constraints=None,\n",
       "                                    learning_rate=0.1, max_bin=None,\n",
       "                                    max_cat_...one, max_delta_step=None,\n",
       "                                    max_depth=7, max_leaves=None,\n",
       "                                    min_child_weight=None, missing=nan,\n",
       "                                    monotone_constraints=None,\n",
       "                                    n_estimators=1200, n_jobs=None,\n",
       "                                    num_parallel_tree=None, predictor=None,\n",
       "                                    random_state=None, reg_alpha=None,\n",
       "                                    reg_lambda=None, ...),\n",
       "             n_jobs=4,\n",
       "             param_grid={&#x27;colsample_bylevel&#x27;: [0.0, 0.1, 0.2, 0.3, 0.4, 0.5]},\n",
       "             scoring=&#x27;neg_root_mean_squared_error&#x27;, verbose=1)</pre></div></div></div><div class=\"sk-parallel\"><div class=\"sk-parallel-item\"><div class=\"sk-item\"><div class=\"sk-label-container\"><div class=\"sk-label sk-toggleable\"><input class=\"sk-toggleable__control sk-hidden--visually\" id=\"sk-estimator-id-41\" type=\"checkbox\" ><label for=\"sk-estimator-id-41\" class=\"sk-toggleable__label sk-toggleable__label-arrow\">estimator: XGBRegressor</label><div class=\"sk-toggleable__content\"><pre>XGBRegressor(base_score=None, booster=None, callbacks=None,\n",
       "             colsample_bylevel=None, colsample_bynode=None,\n",
       "             colsample_bytree=0.75, early_stopping_rounds=None,\n",
       "             enable_categorical=False, eval_metric=None, gamma=None,\n",
       "             gpu_id=None, grow_policy=None, importance_type=None,\n",
       "             interaction_constraints=None, learning_rate=0.1, max_bin=None,\n",
       "             max_cat_to_onehot=None, max_delta_step=None, max_depth=7,\n",
       "             max_leaves=None, min_child_weight=None, missing=nan,\n",
       "             monotone_constraints=None, n_estimators=1200, n_jobs=None,\n",
       "             num_parallel_tree=None, predictor=None, random_state=None,\n",
       "             reg_alpha=None, reg_lambda=None, ...)</pre></div></div></div><div class=\"sk-serial\"><div class=\"sk-item\"><div class=\"sk-estimator sk-toggleable\"><input class=\"sk-toggleable__control sk-hidden--visually\" id=\"sk-estimator-id-42\" type=\"checkbox\" ><label for=\"sk-estimator-id-42\" class=\"sk-toggleable__label sk-toggleable__label-arrow\">XGBRegressor</label><div class=\"sk-toggleable__content\"><pre>XGBRegressor(base_score=None, booster=None, callbacks=None,\n",
       "             colsample_bylevel=None, colsample_bynode=None,\n",
       "             colsample_bytree=0.75, early_stopping_rounds=None,\n",
       "             enable_categorical=False, eval_metric=None, gamma=None,\n",
       "             gpu_id=None, grow_policy=None, importance_type=None,\n",
       "             interaction_constraints=None, learning_rate=0.1, max_bin=None,\n",
       "             max_cat_to_onehot=None, max_delta_step=None, max_depth=7,\n",
       "             max_leaves=None, min_child_weight=None, missing=nan,\n",
       "             monotone_constraints=None, n_estimators=1200, n_jobs=None,\n",
       "             num_parallel_tree=None, predictor=None, random_state=None,\n",
       "             reg_alpha=None, reg_lambda=None, ...)</pre></div></div></div></div></div></div></div></div></div></div>"
      ],
      "text/plain": [
       "GridSearchCV(cv=5,\n",
       "             estimator=XGBRegressor(base_score=None, booster=None,\n",
       "                                    callbacks=None, colsample_bylevel=None,\n",
       "                                    colsample_bynode=None,\n",
       "                                    colsample_bytree=0.75,\n",
       "                                    early_stopping_rounds=None,\n",
       "                                    enable_categorical=False, eval_metric=None,\n",
       "                                    gamma=None, gpu_id=None, grow_policy=None,\n",
       "                                    importance_type=None,\n",
       "                                    interaction_constraints=None,\n",
       "                                    learning_rate=0.1, max_bin=None,\n",
       "                                    max_cat_...one, max_delta_step=None,\n",
       "                                    max_depth=7, max_leaves=None,\n",
       "                                    min_child_weight=None, missing=nan,\n",
       "                                    monotone_constraints=None,\n",
       "                                    n_estimators=1200, n_jobs=None,\n",
       "                                    num_parallel_tree=None, predictor=None,\n",
       "                                    random_state=None, reg_alpha=None,\n",
       "                                    reg_lambda=None, ...),\n",
       "             n_jobs=4,\n",
       "             param_grid={'colsample_bylevel': [0.0, 0.1, 0.2, 0.3, 0.4, 0.5]},\n",
       "             scoring='neg_root_mean_squared_error', verbose=1)"
      ]
     },
     "execution_count": 192,
     "metadata": {},
     "output_type": "execute_result"
    }
   ],
   "source": [
    "grid_xgb.fit(X,y)"
   ]
  },
  {
   "cell_type": "code",
   "execution_count": 68,
   "id": "c250a8f2",
   "metadata": {},
   "outputs": [],
   "source": [
    "grid_xgb.best_params_"
   ]
  },
  {
   "cell_type": "code",
   "execution_count": 73,
   "id": "83af3cba",
   "metadata": {},
   "outputs": [],
   "source": [
    "# Finally trained on n_estimators=100000"
   ]
  },
  {
   "cell_type": "code",
   "execution_count": 51,
   "id": "3da19774",
   "metadata": {},
   "outputs": [],
   "source": [
    "model_xgb1=XGBRegressor(objective='reg:squarederror',learning_rate=0.1, max_depth=7, n_estimators=100000, subsample=0.95, colsample_bytree=0.75, colsample_bylevel=0.75, gamma=0.4, reg_alpha=1e-05, seed=27)"
   ]
  },
  {
   "cell_type": "code",
   "execution_count": 53,
   "id": "96f46abd",
   "metadata": {},
   "outputs": [],
   "source": [
    "cv_score_xgb1=-1 * cross_val_score(model_xgb1,X,y,cv=5,scoring='neg_root_mean_squared_error')\n",
    "print(cv_score_xgb1.mean())"
   ]
  },
  {
   "cell_type": "code",
   "execution_count": 55,
   "id": "6cd755e5",
   "metadata": {},
   "outputs": [],
   "source": [
    "model_xgb1.fit(X,y)"
   ]
  },
  {
   "cell_type": "markdown",
   "id": "78c9f538",
   "metadata": {},
   "source": [
    "## Reading Test Data"
   ]
  },
  {
   "cell_type": "code",
   "execution_count": 56,
   "id": "af6a8332",
   "metadata": {},
   "outputs": [],
   "source": [
    "df_test=pd.read_csv('test.csv')"
   ]
  },
  {
   "cell_type": "code",
   "execution_count": 57,
   "id": "538a7c76",
   "metadata": {},
   "outputs": [
    {
     "data": {
      "text/html": [
       "<div>\n",
       "<style scoped>\n",
       "    .dataframe tbody tr th:only-of-type {\n",
       "        vertical-align: middle;\n",
       "    }\n",
       "\n",
       "    .dataframe tbody tr th {\n",
       "        vertical-align: top;\n",
       "    }\n",
       "\n",
       "    .dataframe thead th {\n",
       "        text-align: right;\n",
       "    }\n",
       "</style>\n",
       "<table border=\"1\" class=\"dataframe\">\n",
       "  <thead>\n",
       "    <tr style=\"text-align: right;\">\n",
       "      <th></th>\n",
       "      <th>id</th>\n",
       "      <th>title</th>\n",
       "      <th>Rating</th>\n",
       "      <th>maincateg</th>\n",
       "      <th>platform</th>\n",
       "      <th>actprice1</th>\n",
       "      <th>norating1</th>\n",
       "      <th>noreviews1</th>\n",
       "      <th>star_5f</th>\n",
       "      <th>star_4f</th>\n",
       "      <th>star_3f</th>\n",
       "      <th>star_2f</th>\n",
       "      <th>star_1f</th>\n",
       "      <th>fulfilled1</th>\n",
       "    </tr>\n",
       "  </thead>\n",
       "  <tbody>\n",
       "    <tr>\n",
       "      <th>0</th>\n",
       "      <td>2242</td>\n",
       "      <td>Casuals For Men  (Blue)</td>\n",
       "      <td>3.8</td>\n",
       "      <td>Men</td>\n",
       "      <td>Flipkart</td>\n",
       "      <td>999</td>\n",
       "      <td>27928</td>\n",
       "      <td>3543</td>\n",
       "      <td>14238.0</td>\n",
       "      <td>4295</td>\n",
       "      <td>3457</td>\n",
       "      <td>1962</td>\n",
       "      <td>3976.0</td>\n",
       "      <td>1</td>\n",
       "    </tr>\n",
       "    <tr>\n",
       "      <th>1</th>\n",
       "      <td>20532</td>\n",
       "      <td>Women Black Flats Sandal</td>\n",
       "      <td>3.9</td>\n",
       "      <td>Women</td>\n",
       "      <td>Flipkart</td>\n",
       "      <td>499</td>\n",
       "      <td>3015</td>\n",
       "      <td>404</td>\n",
       "      <td>1458.0</td>\n",
       "      <td>657</td>\n",
       "      <td>397</td>\n",
       "      <td>182</td>\n",
       "      <td>321.0</td>\n",
       "      <td>1</td>\n",
       "    </tr>\n",
       "    <tr>\n",
       "      <th>2</th>\n",
       "      <td>10648</td>\n",
       "      <td>Women Gold Wedges Sandal</td>\n",
       "      <td>3.9</td>\n",
       "      <td>Women</td>\n",
       "      <td>Flipkart</td>\n",
       "      <td>999</td>\n",
       "      <td>449</td>\n",
       "      <td>52</td>\n",
       "      <td>229.0</td>\n",
       "      <td>70</td>\n",
       "      <td>71</td>\n",
       "      <td>33</td>\n",
       "      <td>46.0</td>\n",
       "      <td>1</td>\n",
       "    </tr>\n",
       "    <tr>\n",
       "      <th>3</th>\n",
       "      <td>20677</td>\n",
       "      <td>Men's Height Increasing High Heel Formal Party...</td>\n",
       "      <td>3.9</td>\n",
       "      <td>Men</td>\n",
       "      <td>Flipkart</td>\n",
       "      <td>2999</td>\n",
       "      <td>290</td>\n",
       "      <td>40</td>\n",
       "      <td>141.0</td>\n",
       "      <td>51</td>\n",
       "      <td>49</td>\n",
       "      <td>17</td>\n",
       "      <td>32.0</td>\n",
       "      <td>1</td>\n",
       "    </tr>\n",
       "    <tr>\n",
       "      <th>4</th>\n",
       "      <td>12593</td>\n",
       "      <td>Loafers For Men  (Tan)</td>\n",
       "      <td>3.9</td>\n",
       "      <td>Men</td>\n",
       "      <td>Flipkart</td>\n",
       "      <td>999</td>\n",
       "      <td>2423</td>\n",
       "      <td>326</td>\n",
       "      <td>1265.0</td>\n",
       "      <td>414</td>\n",
       "      <td>293</td>\n",
       "      <td>143</td>\n",
       "      <td>308.0</td>\n",
       "      <td>0</td>\n",
       "    </tr>\n",
       "  </tbody>\n",
       "</table>\n",
       "</div>"
      ],
      "text/plain": [
       "      id                                              title  Rating maincateg  \\\n",
       "0   2242                            Casuals For Men  (Blue)     3.8       Men   \n",
       "1  20532                           Women Black Flats Sandal     3.9     Women   \n",
       "2  10648                           Women Gold Wedges Sandal     3.9     Women   \n",
       "3  20677  Men's Height Increasing High Heel Formal Party...     3.9       Men   \n",
       "4  12593                             Loafers For Men  (Tan)     3.9       Men   \n",
       "\n",
       "   platform  actprice1  norating1  noreviews1  star_5f  star_4f  star_3f  \\\n",
       "0  Flipkart        999      27928        3543  14238.0     4295     3457   \n",
       "1  Flipkart        499       3015         404   1458.0      657      397   \n",
       "2  Flipkart        999        449          52    229.0       70       71   \n",
       "3  Flipkart       2999        290          40    141.0       51       49   \n",
       "4  Flipkart        999       2423         326   1265.0      414      293   \n",
       "\n",
       "   star_2f  star_1f  fulfilled1  \n",
       "0     1962   3976.0           1  \n",
       "1      182    321.0           1  \n",
       "2       33     46.0           1  \n",
       "3       17     32.0           1  \n",
       "4      143    308.0           0  "
      ]
     },
     "execution_count": 57,
     "metadata": {},
     "output_type": "execute_result"
    }
   ],
   "source": [
    "df_test.head()"
   ]
  },
  {
   "cell_type": "code",
   "execution_count": 58,
   "id": "be145e6c",
   "metadata": {},
   "outputs": [
    {
     "data": {
      "text/plain": [
       "(5244, 14)"
      ]
     },
     "execution_count": 58,
     "metadata": {},
     "output_type": "execute_result"
    }
   ],
   "source": [
    "df_test.shape"
   ]
  },
  {
   "cell_type": "code",
   "execution_count": 59,
   "id": "21be3144",
   "metadata": {},
   "outputs": [
    {
     "data": {
      "text/plain": [
       "id              0\n",
       "title           0\n",
       "Rating        203\n",
       "maincateg      67\n",
       "platform        0\n",
       "actprice1       0\n",
       "norating1       0\n",
       "noreviews1      0\n",
       "star_5f        68\n",
       "star_4f         0\n",
       "star_3f         0\n",
       "star_2f         0\n",
       "star_1f       186\n",
       "fulfilled1      0\n",
       "dtype: int64"
      ]
     },
     "execution_count": 59,
     "metadata": {},
     "output_type": "execute_result"
    }
   ],
   "source": [
    "df_test.isnull().sum()"
   ]
  },
  {
   "cell_type": "code",
   "execution_count": 60,
   "id": "354ff817",
   "metadata": {},
   "outputs": [
    {
     "data": {
      "text/html": [
       "<div>\n",
       "<style scoped>\n",
       "    .dataframe tbody tr th:only-of-type {\n",
       "        vertical-align: middle;\n",
       "    }\n",
       "\n",
       "    .dataframe tbody tr th {\n",
       "        vertical-align: top;\n",
       "    }\n",
       "\n",
       "    .dataframe thead th {\n",
       "        text-align: right;\n",
       "    }\n",
       "</style>\n",
       "<table border=\"1\" class=\"dataframe\">\n",
       "  <thead>\n",
       "    <tr style=\"text-align: right;\">\n",
       "      <th></th>\n",
       "      <th>id</th>\n",
       "      <th>Rating</th>\n",
       "      <th>actprice1</th>\n",
       "      <th>norating1</th>\n",
       "      <th>noreviews1</th>\n",
       "      <th>star_5f</th>\n",
       "      <th>star_4f</th>\n",
       "      <th>star_3f</th>\n",
       "      <th>star_2f</th>\n",
       "      <th>star_1f</th>\n",
       "      <th>fulfilled1</th>\n",
       "    </tr>\n",
       "  </thead>\n",
       "  <tbody>\n",
       "    <tr>\n",
       "      <th>count</th>\n",
       "      <td>5244.000000</td>\n",
       "      <td>5041.000000</td>\n",
       "      <td>5244.000000</td>\n",
       "      <td>5244.000000</td>\n",
       "      <td>5244.000000</td>\n",
       "      <td>5176.000000</td>\n",
       "      <td>5244.000000</td>\n",
       "      <td>5244.000000</td>\n",
       "      <td>5244.000000</td>\n",
       "      <td>5058.000000</td>\n",
       "      <td>5244.000000</td>\n",
       "    </tr>\n",
       "    <tr>\n",
       "      <th>mean</th>\n",
       "      <td>10507.372616</td>\n",
       "      <td>4.011089</td>\n",
       "      <td>1378.657895</td>\n",
       "      <td>2988.580092</td>\n",
       "      <td>415.491037</td>\n",
       "      <td>1557.443199</td>\n",
       "      <td>639.785469</td>\n",
       "      <td>356.356789</td>\n",
       "      <td>154.139969</td>\n",
       "      <td>270.397786</td>\n",
       "      <td>0.604500</td>\n",
       "    </tr>\n",
       "    <tr>\n",
       "      <th>std</th>\n",
       "      <td>5978.658892</td>\n",
       "      <td>0.301915</td>\n",
       "      <td>1280.630070</td>\n",
       "      <td>12881.253715</td>\n",
       "      <td>1910.726669</td>\n",
       "      <td>6583.766998</td>\n",
       "      <td>2991.065223</td>\n",
       "      <td>1632.732834</td>\n",
       "      <td>611.006799</td>\n",
       "      <td>1035.085288</td>\n",
       "      <td>0.489004</td>\n",
       "    </tr>\n",
       "    <tr>\n",
       "      <th>min</th>\n",
       "      <td>0.000000</td>\n",
       "      <td>0.000000</td>\n",
       "      <td>139.000000</td>\n",
       "      <td>1.000000</td>\n",
       "      <td>0.000000</td>\n",
       "      <td>0.000000</td>\n",
       "      <td>0.000000</td>\n",
       "      <td>0.000000</td>\n",
       "      <td>0.000000</td>\n",
       "      <td>0.000000</td>\n",
       "      <td>0.000000</td>\n",
       "    </tr>\n",
       "    <tr>\n",
       "      <th>25%</th>\n",
       "      <td>5286.750000</td>\n",
       "      <td>3.900000</td>\n",
       "      <td>699.000000</td>\n",
       "      <td>66.000000</td>\n",
       "      <td>9.000000</td>\n",
       "      <td>32.000000</td>\n",
       "      <td>12.000000</td>\n",
       "      <td>7.000000</td>\n",
       "      <td>3.000000</td>\n",
       "      <td>6.000000</td>\n",
       "      <td>0.000000</td>\n",
       "    </tr>\n",
       "    <tr>\n",
       "      <th>50%</th>\n",
       "      <td>10561.500000</td>\n",
       "      <td>4.000000</td>\n",
       "      <td>999.000000</td>\n",
       "      <td>307.000000</td>\n",
       "      <td>44.000000</td>\n",
       "      <td>156.000000</td>\n",
       "      <td>61.000000</td>\n",
       "      <td>34.000000</td>\n",
       "      <td>16.000000</td>\n",
       "      <td>29.000000</td>\n",
       "      <td>1.000000</td>\n",
       "    </tr>\n",
       "    <tr>\n",
       "      <th>75%</th>\n",
       "      <td>15636.750000</td>\n",
       "      <td>4.200000</td>\n",
       "      <td>1299.000000</td>\n",
       "      <td>1428.000000</td>\n",
       "      <td>214.250000</td>\n",
       "      <td>764.250000</td>\n",
       "      <td>310.250000</td>\n",
       "      <td>166.000000</td>\n",
       "      <td>75.000000</td>\n",
       "      <td>131.000000</td>\n",
       "      <td>1.000000</td>\n",
       "    </tr>\n",
       "    <tr>\n",
       "      <th>max</th>\n",
       "      <td>20964.000000</td>\n",
       "      <td>5.000000</td>\n",
       "      <td>15999.000000</td>\n",
       "      <td>289973.000000</td>\n",
       "      <td>45448.000000</td>\n",
       "      <td>151193.000000</td>\n",
       "      <td>74037.000000</td>\n",
       "      <td>49924.000000</td>\n",
       "      <td>12629.000000</td>\n",
       "      <td>23139.000000</td>\n",
       "      <td>1.000000</td>\n",
       "    </tr>\n",
       "  </tbody>\n",
       "</table>\n",
       "</div>"
      ],
      "text/plain": [
       "                 id       Rating     actprice1      norating1    noreviews1  \\\n",
       "count   5244.000000  5041.000000   5244.000000    5244.000000   5244.000000   \n",
       "mean   10507.372616     4.011089   1378.657895    2988.580092    415.491037   \n",
       "std     5978.658892     0.301915   1280.630070   12881.253715   1910.726669   \n",
       "min        0.000000     0.000000    139.000000       1.000000      0.000000   \n",
       "25%     5286.750000     3.900000    699.000000      66.000000      9.000000   \n",
       "50%    10561.500000     4.000000    999.000000     307.000000     44.000000   \n",
       "75%    15636.750000     4.200000   1299.000000    1428.000000    214.250000   \n",
       "max    20964.000000     5.000000  15999.000000  289973.000000  45448.000000   \n",
       "\n",
       "             star_5f       star_4f       star_3f       star_2f       star_1f  \\\n",
       "count    5176.000000   5244.000000   5244.000000   5244.000000   5058.000000   \n",
       "mean     1557.443199    639.785469    356.356789    154.139969    270.397786   \n",
       "std      6583.766998   2991.065223   1632.732834    611.006799   1035.085288   \n",
       "min         0.000000      0.000000      0.000000      0.000000      0.000000   \n",
       "25%        32.000000     12.000000      7.000000      3.000000      6.000000   \n",
       "50%       156.000000     61.000000     34.000000     16.000000     29.000000   \n",
       "75%       764.250000    310.250000    166.000000     75.000000    131.000000   \n",
       "max    151193.000000  74037.000000  49924.000000  12629.000000  23139.000000   \n",
       "\n",
       "        fulfilled1  \n",
       "count  5244.000000  \n",
       "mean      0.604500  \n",
       "std       0.489004  \n",
       "min       0.000000  \n",
       "25%       0.000000  \n",
       "50%       1.000000  \n",
       "75%       1.000000  \n",
       "max       1.000000  "
      ]
     },
     "execution_count": 60,
     "metadata": {},
     "output_type": "execute_result"
    }
   ],
   "source": [
    "df_test.describe()"
   ]
  },
  {
   "cell_type": "code",
   "execution_count": 61,
   "id": "c2f056b4",
   "metadata": {},
   "outputs": [
    {
     "data": {
      "text/plain": [
       "0    4.1\n",
       "dtype: float64"
      ]
     },
     "execution_count": 61,
     "metadata": {},
     "output_type": "execute_result"
    }
   ],
   "source": [
    "df_test.Rating.mode()"
   ]
  },
  {
   "cell_type": "markdown",
   "id": "00c07c31",
   "metadata": {},
   "source": [
    "## Filling NaN values"
   ]
  },
  {
   "cell_type": "code",
   "execution_count": 62,
   "id": "67b82a40",
   "metadata": {},
   "outputs": [],
   "source": [
    "for i in range(df_test.shape[0]):\n",
    "    if ('Men' in df_test['title'][i]) and pd.isnull(df_test['maincateg'][i]):\n",
    "        df_test['maincateg']=df_test['maincateg'].fillna('Men')\n",
    "    elif ('Women' in df_test['title'][i]) and pd.isnull(df_test['maincateg'][i]):\n",
    "        df_test['maincateg']=df_test['maincateg'].fillna('Women')"
   ]
  },
  {
   "cell_type": "code",
   "execution_count": 63,
   "id": "350f6421",
   "metadata": {},
   "outputs": [],
   "source": [
    "df_test['Rating']=df_test['Rating'].fillna(df_test['Rating'].median())\n",
    "df_test['star_5f']=df_test['star_5f'].fillna(df_test['star_5f'].median())\n",
    "df_test['star_1f']=df_test['star_1f'].fillna(df_test['star_1f'].median())"
   ]
  },
  {
   "cell_type": "code",
   "execution_count": 64,
   "id": "ce4fec88",
   "metadata": {},
   "outputs": [],
   "source": [
    "df_test.drop('title',axis=1,inplace=True)"
   ]
  },
  {
   "cell_type": "code",
   "execution_count": 65,
   "id": "dcb35a3e",
   "metadata": {},
   "outputs": [
    {
     "data": {
      "text/plain": [
       "id            0\n",
       "Rating        0\n",
       "maincateg     0\n",
       "platform      0\n",
       "actprice1     0\n",
       "norating1     0\n",
       "noreviews1    0\n",
       "star_5f       0\n",
       "star_4f       0\n",
       "star_3f       0\n",
       "star_2f       0\n",
       "star_1f       0\n",
       "fulfilled1    0\n",
       "dtype: int64"
      ]
     },
     "execution_count": 65,
     "metadata": {},
     "output_type": "execute_result"
    }
   ],
   "source": [
    "df_test.isnull().sum()"
   ]
  },
  {
   "cell_type": "code",
   "execution_count": 66,
   "id": "3be0431a",
   "metadata": {},
   "outputs": [],
   "source": [
    "X_test=df_test.loc[:,:]"
   ]
  },
  {
   "cell_type": "code",
   "execution_count": 67,
   "id": "1eb5d043",
   "metadata": {},
   "outputs": [
    {
     "data": {
      "text/html": [
       "<div>\n",
       "<style scoped>\n",
       "    .dataframe tbody tr th:only-of-type {\n",
       "        vertical-align: middle;\n",
       "    }\n",
       "\n",
       "    .dataframe tbody tr th {\n",
       "        vertical-align: top;\n",
       "    }\n",
       "\n",
       "    .dataframe thead th {\n",
       "        text-align: right;\n",
       "    }\n",
       "</style>\n",
       "<table border=\"1\" class=\"dataframe\">\n",
       "  <thead>\n",
       "    <tr style=\"text-align: right;\">\n",
       "      <th></th>\n",
       "      <th>id</th>\n",
       "      <th>Rating</th>\n",
       "      <th>maincateg</th>\n",
       "      <th>platform</th>\n",
       "      <th>actprice1</th>\n",
       "      <th>norating1</th>\n",
       "      <th>noreviews1</th>\n",
       "      <th>star_5f</th>\n",
       "      <th>star_4f</th>\n",
       "      <th>star_3f</th>\n",
       "      <th>star_2f</th>\n",
       "      <th>star_1f</th>\n",
       "      <th>fulfilled1</th>\n",
       "    </tr>\n",
       "  </thead>\n",
       "  <tbody>\n",
       "    <tr>\n",
       "      <th>0</th>\n",
       "      <td>2242</td>\n",
       "      <td>3.8</td>\n",
       "      <td>Men</td>\n",
       "      <td>Flipkart</td>\n",
       "      <td>999</td>\n",
       "      <td>27928</td>\n",
       "      <td>3543</td>\n",
       "      <td>14238.0</td>\n",
       "      <td>4295</td>\n",
       "      <td>3457</td>\n",
       "      <td>1962</td>\n",
       "      <td>3976.0</td>\n",
       "      <td>1</td>\n",
       "    </tr>\n",
       "    <tr>\n",
       "      <th>1</th>\n",
       "      <td>20532</td>\n",
       "      <td>3.9</td>\n",
       "      <td>Women</td>\n",
       "      <td>Flipkart</td>\n",
       "      <td>499</td>\n",
       "      <td>3015</td>\n",
       "      <td>404</td>\n",
       "      <td>1458.0</td>\n",
       "      <td>657</td>\n",
       "      <td>397</td>\n",
       "      <td>182</td>\n",
       "      <td>321.0</td>\n",
       "      <td>1</td>\n",
       "    </tr>\n",
       "    <tr>\n",
       "      <th>2</th>\n",
       "      <td>10648</td>\n",
       "      <td>3.9</td>\n",
       "      <td>Women</td>\n",
       "      <td>Flipkart</td>\n",
       "      <td>999</td>\n",
       "      <td>449</td>\n",
       "      <td>52</td>\n",
       "      <td>229.0</td>\n",
       "      <td>70</td>\n",
       "      <td>71</td>\n",
       "      <td>33</td>\n",
       "      <td>46.0</td>\n",
       "      <td>1</td>\n",
       "    </tr>\n",
       "    <tr>\n",
       "      <th>3</th>\n",
       "      <td>20677</td>\n",
       "      <td>3.9</td>\n",
       "      <td>Men</td>\n",
       "      <td>Flipkart</td>\n",
       "      <td>2999</td>\n",
       "      <td>290</td>\n",
       "      <td>40</td>\n",
       "      <td>141.0</td>\n",
       "      <td>51</td>\n",
       "      <td>49</td>\n",
       "      <td>17</td>\n",
       "      <td>32.0</td>\n",
       "      <td>1</td>\n",
       "    </tr>\n",
       "    <tr>\n",
       "      <th>4</th>\n",
       "      <td>12593</td>\n",
       "      <td>3.9</td>\n",
       "      <td>Men</td>\n",
       "      <td>Flipkart</td>\n",
       "      <td>999</td>\n",
       "      <td>2423</td>\n",
       "      <td>326</td>\n",
       "      <td>1265.0</td>\n",
       "      <td>414</td>\n",
       "      <td>293</td>\n",
       "      <td>143</td>\n",
       "      <td>308.0</td>\n",
       "      <td>0</td>\n",
       "    </tr>\n",
       "    <tr>\n",
       "      <th>...</th>\n",
       "      <td>...</td>\n",
       "      <td>...</td>\n",
       "      <td>...</td>\n",
       "      <td>...</td>\n",
       "      <td>...</td>\n",
       "      <td>...</td>\n",
       "      <td>...</td>\n",
       "      <td>...</td>\n",
       "      <td>...</td>\n",
       "      <td>...</td>\n",
       "      <td>...</td>\n",
       "      <td>...</td>\n",
       "      <td>...</td>\n",
       "    </tr>\n",
       "    <tr>\n",
       "      <th>5239</th>\n",
       "      <td>14033</td>\n",
       "      <td>4.0</td>\n",
       "      <td>Women</td>\n",
       "      <td>Flipkart</td>\n",
       "      <td>699</td>\n",
       "      <td>1235</td>\n",
       "      <td>153</td>\n",
       "      <td>156.0</td>\n",
       "      <td>323</td>\n",
       "      <td>155</td>\n",
       "      <td>62</td>\n",
       "      <td>29.0</td>\n",
       "      <td>1</td>\n",
       "    </tr>\n",
       "    <tr>\n",
       "      <th>5240</th>\n",
       "      <td>297</td>\n",
       "      <td>3.9</td>\n",
       "      <td>Men</td>\n",
       "      <td>Flipkart</td>\n",
       "      <td>1993</td>\n",
       "      <td>329</td>\n",
       "      <td>56</td>\n",
       "      <td>350.0</td>\n",
       "      <td>37</td>\n",
       "      <td>60</td>\n",
       "      <td>5</td>\n",
       "      <td>37.0</td>\n",
       "      <td>0</td>\n",
       "    </tr>\n",
       "    <tr>\n",
       "      <th>5241</th>\n",
       "      <td>18733</td>\n",
       "      <td>3.8</td>\n",
       "      <td>Women</td>\n",
       "      <td>Flipkart</td>\n",
       "      <td>999</td>\n",
       "      <td>1280</td>\n",
       "      <td>135</td>\n",
       "      <td>574.0</td>\n",
       "      <td>290</td>\n",
       "      <td>172</td>\n",
       "      <td>94</td>\n",
       "      <td>150.0</td>\n",
       "      <td>0</td>\n",
       "    </tr>\n",
       "    <tr>\n",
       "      <th>5242</th>\n",
       "      <td>6162</td>\n",
       "      <td>3.9</td>\n",
       "      <td>Women</td>\n",
       "      <td>Flipkart</td>\n",
       "      <td>499</td>\n",
       "      <td>4867</td>\n",
       "      <td>574</td>\n",
       "      <td>2384.0</td>\n",
       "      <td>974</td>\n",
       "      <td>648</td>\n",
       "      <td>328</td>\n",
       "      <td>533.0</td>\n",
       "      <td>0</td>\n",
       "    </tr>\n",
       "    <tr>\n",
       "      <th>5243</th>\n",
       "      <td>13574</td>\n",
       "      <td>3.9</td>\n",
       "      <td>Women</td>\n",
       "      <td>Amazon</td>\n",
       "      <td>749</td>\n",
       "      <td>8</td>\n",
       "      <td>5</td>\n",
       "      <td>28.0</td>\n",
       "      <td>0</td>\n",
       "      <td>0</td>\n",
       "      <td>0</td>\n",
       "      <td>72.0</td>\n",
       "      <td>1</td>\n",
       "    </tr>\n",
       "  </tbody>\n",
       "</table>\n",
       "<p>5244 rows × 13 columns</p>\n",
       "</div>"
      ],
      "text/plain": [
       "         id  Rating maincateg  platform  actprice1  norating1  noreviews1  \\\n",
       "0      2242     3.8       Men  Flipkart        999      27928        3543   \n",
       "1     20532     3.9     Women  Flipkart        499       3015         404   \n",
       "2     10648     3.9     Women  Flipkart        999        449          52   \n",
       "3     20677     3.9       Men  Flipkart       2999        290          40   \n",
       "4     12593     3.9       Men  Flipkart        999       2423         326   \n",
       "...     ...     ...       ...       ...        ...        ...         ...   \n",
       "5239  14033     4.0     Women  Flipkart        699       1235         153   \n",
       "5240    297     3.9       Men  Flipkart       1993        329          56   \n",
       "5241  18733     3.8     Women  Flipkart        999       1280         135   \n",
       "5242   6162     3.9     Women  Flipkart        499       4867         574   \n",
       "5243  13574     3.9     Women    Amazon        749          8           5   \n",
       "\n",
       "      star_5f  star_4f  star_3f  star_2f  star_1f  fulfilled1  \n",
       "0     14238.0     4295     3457     1962   3976.0           1  \n",
       "1      1458.0      657      397      182    321.0           1  \n",
       "2       229.0       70       71       33     46.0           1  \n",
       "3       141.0       51       49       17     32.0           1  \n",
       "4      1265.0      414      293      143    308.0           0  \n",
       "...       ...      ...      ...      ...      ...         ...  \n",
       "5239    156.0      323      155       62     29.0           1  \n",
       "5240    350.0       37       60        5     37.0           0  \n",
       "5241    574.0      290      172       94    150.0           0  \n",
       "5242   2384.0      974      648      328    533.0           0  \n",
       "5243     28.0        0        0        0     72.0           1  \n",
       "\n",
       "[5244 rows x 13 columns]"
      ]
     },
     "execution_count": 67,
     "metadata": {},
     "output_type": "execute_result"
    }
   ],
   "source": [
    "X_test"
   ]
  },
  {
   "cell_type": "code",
   "execution_count": 68,
   "id": "268213f1",
   "metadata": {},
   "outputs": [],
   "source": [
    "X_test=column_trans.transform(X_test)"
   ]
  },
  {
   "cell_type": "code",
   "execution_count": 69,
   "id": "43c5ae56",
   "metadata": {},
   "outputs": [],
   "source": [
    "X_test=scaler.transform(X_test)"
   ]
  },
  {
   "cell_type": "code",
   "execution_count": null,
   "id": "47feb367",
   "metadata": {},
   "outputs": [],
   "source": [
    " "
   ]
  },
  {
   "cell_type": "markdown",
   "id": "5dae1c2f",
   "metadata": {},
   "source": [
    "## Final Predictions using XGB Regressor Model"
   ]
  },
  {
   "cell_type": "code",
   "execution_count": 65,
   "id": "12e59034",
   "metadata": {},
   "outputs": [],
   "source": [
    "predictions_xgb=model_xgb1.predict(X_test)"
   ]
  },
  {
   "cell_type": "code",
   "execution_count": 66,
   "id": "2c7c07ab",
   "metadata": {},
   "outputs": [],
   "source": [
    "prediction9=df_test.loc[:,'id']"
   ]
  },
  {
   "cell_type": "code",
   "execution_count": 67,
   "id": "7509cfcc",
   "metadata": {},
   "outputs": [],
   "source": [
    "prediction9=pd.DataFrame(prediction9)"
   ]
  },
  {
   "cell_type": "code",
   "execution_count": 68,
   "id": "c2800d54",
   "metadata": {},
   "outputs": [],
   "source": [
    "predictions_xgb=pd.Series(predictions_xgb).astype('int')"
   ]
  },
  {
   "cell_type": "code",
   "execution_count": 69,
   "id": "44c17c8d",
   "metadata": {},
   "outputs": [],
   "source": [
    "prediction9=pd.concat([prediction9,predictions_xgb],axis=1)"
   ]
  },
  {
   "cell_type": "code",
   "execution_count": 70,
   "id": "aafb61f7",
   "metadata": {},
   "outputs": [],
   "source": [
    "prediction9.rename(columns={0:'price1'},inplace=True)"
   ]
  },
  {
   "cell_type": "code",
   "execution_count": 73,
   "id": "2404c10b",
   "metadata": {},
   "outputs": [],
   "source": [
    "prediction9.to_csv(\"prediction9.csv\", index = False)"
   ]
  },
  {
   "cell_type": "code",
   "execution_count": 72,
   "id": "075c1fd6",
   "metadata": {},
   "outputs": [
    {
     "data": {
      "text/html": [
       "<div>\n",
       "<style scoped>\n",
       "    .dataframe tbody tr th:only-of-type {\n",
       "        vertical-align: middle;\n",
       "    }\n",
       "\n",
       "    .dataframe tbody tr th {\n",
       "        vertical-align: top;\n",
       "    }\n",
       "\n",
       "    .dataframe thead th {\n",
       "        text-align: right;\n",
       "    }\n",
       "</style>\n",
       "<table border=\"1\" class=\"dataframe\">\n",
       "  <thead>\n",
       "    <tr style=\"text-align: right;\">\n",
       "      <th></th>\n",
       "      <th>id</th>\n",
       "      <th>price1</th>\n",
       "    </tr>\n",
       "  </thead>\n",
       "  <tbody>\n",
       "    <tr>\n",
       "      <th>0</th>\n",
       "      <td>2242</td>\n",
       "      <td>424</td>\n",
       "    </tr>\n",
       "    <tr>\n",
       "      <th>1</th>\n",
       "      <td>20532</td>\n",
       "      <td>281</td>\n",
       "    </tr>\n",
       "    <tr>\n",
       "      <th>2</th>\n",
       "      <td>10648</td>\n",
       "      <td>489</td>\n",
       "    </tr>\n",
       "    <tr>\n",
       "      <th>3</th>\n",
       "      <td>20677</td>\n",
       "      <td>942</td>\n",
       "    </tr>\n",
       "    <tr>\n",
       "      <th>4</th>\n",
       "      <td>12593</td>\n",
       "      <td>407</td>\n",
       "    </tr>\n",
       "    <tr>\n",
       "      <th>...</th>\n",
       "      <td>...</td>\n",
       "      <td>...</td>\n",
       "    </tr>\n",
       "    <tr>\n",
       "      <th>5239</th>\n",
       "      <td>14033</td>\n",
       "      <td>402</td>\n",
       "    </tr>\n",
       "    <tr>\n",
       "      <th>5240</th>\n",
       "      <td>297</td>\n",
       "      <td>832</td>\n",
       "    </tr>\n",
       "    <tr>\n",
       "      <th>5241</th>\n",
       "      <td>18733</td>\n",
       "      <td>391</td>\n",
       "    </tr>\n",
       "    <tr>\n",
       "      <th>5242</th>\n",
       "      <td>6162</td>\n",
       "      <td>194</td>\n",
       "    </tr>\n",
       "    <tr>\n",
       "      <th>5243</th>\n",
       "      <td>13574</td>\n",
       "      <td>709</td>\n",
       "    </tr>\n",
       "  </tbody>\n",
       "</table>\n",
       "<p>5244 rows × 2 columns</p>\n",
       "</div>"
      ],
      "text/plain": [
       "         id  price1\n",
       "0      2242     424\n",
       "1     20532     281\n",
       "2     10648     489\n",
       "3     20677     942\n",
       "4     12593     407\n",
       "...     ...     ...\n",
       "5239  14033     402\n",
       "5240    297     832\n",
       "5241  18733     391\n",
       "5242   6162     194\n",
       "5243  13574     709\n",
       "\n",
       "[5244 rows x 2 columns]"
      ]
     },
     "execution_count": 72,
     "metadata": {},
     "output_type": "execute_result"
    }
   ],
   "source": [
    "prediction9"
   ]
  }
 ],
 "metadata": {
  "kernelspec": {
   "display_name": "Python 3",
   "language": "python",
   "name": "python3"
  },
  "language_info": {
   "codemirror_mode": {
    "name": "ipython",
    "version": 3
   },
   "file_extension": ".py",
   "mimetype": "text/x-python",
   "name": "python",
   "nbconvert_exporter": "python",
   "pygments_lexer": "ipython3",
   "version": "3.8.8"
  }
 },
 "nbformat": 4,
 "nbformat_minor": 5
}
